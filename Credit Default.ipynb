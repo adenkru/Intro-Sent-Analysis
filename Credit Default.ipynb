{
 "cells": [
  {
   "cell_type": "markdown",
   "metadata": {},
   "source": [
    "**Credit Default Project**\n",
    "\n",
    "Gotta first learn what a credit default is "
   ]
  },
  {
   "cell_type": "code",
   "execution_count": 16,
   "metadata": {},
   "outputs": [],
   "source": [
    "import pandas as pd\n",
    "import matplotlib.pyplot as plt\n",
    "import numpy as np \n",
    "import seaborn as sns"
   ]
  },
  {
   "cell_type": "code",
   "execution_count": 2,
   "metadata": {},
   "outputs": [
    {
     "name": "stderr",
     "output_type": "stream",
     "text": [
      "C:\\Users\\adenm\\AppData\\Local\\Temp\\ipykernel_22956\\1590958512.py:1: DtypeWarning: Columns (43) have mixed types. Specify dtype option on import or set low_memory=False.\n",
      "  df = pd.read_csv('SEC_EDGAR.csv')\n"
     ]
    }
   ],
   "source": [
    "df = pd.read_csv('SEC_EDGAR.csv')"
   ]
  },
  {
   "cell_type": "code",
   "execution_count": 3,
   "metadata": {},
   "outputs": [
    {
     "data": {
      "text/html": [
       "<div>\n",
       "<style scoped>\n",
       "    .dataframe tbody tr th:only-of-type {\n",
       "        vertical-align: middle;\n",
       "    }\n",
       "\n",
       "    .dataframe tbody tr th {\n",
       "        vertical-align: top;\n",
       "    }\n",
       "\n",
       "    .dataframe thead th {\n",
       "        text-align: right;\n",
       "    }\n",
       "</style>\n",
       "<table border=\"1\" class=\"dataframe\">\n",
       "  <thead>\n",
       "    <tr style=\"text-align: right;\">\n",
       "      <th></th>\n",
       "      <th>Unnamed: 0</th>\n",
       "      <th>commonstocksharesissued</th>\n",
       "      <th>assetscurrent</th>\n",
       "      <th>accountspayablecurrent</th>\n",
       "      <th>commonstockvalue</th>\n",
       "      <th>liabilities</th>\n",
       "      <th>liabilitiesandstockholdersequity</th>\n",
       "      <th>stockholdersequity</th>\n",
       "      <th>earningspersharebasic</th>\n",
       "      <th>netincomeloss</th>\n",
       "      <th>...</th>\n",
       "      <th>officerscompensation</th>\n",
       "      <th>intangibleassetscurrent</th>\n",
       "      <th>salariesandwages</th>\n",
       "      <th>interestanddebtexpense</th>\n",
       "      <th>convertibledebt</th>\n",
       "      <th>assetmanagementcosts</th>\n",
       "      <th>accountsreceivablegross</th>\n",
       "      <th>directoperatingcosts</th>\n",
       "      <th>operatingcycle</th>\n",
       "      <th>stock</th>\n",
       "    </tr>\n",
       "  </thead>\n",
       "  <tbody>\n",
       "    <tr>\n",
       "      <th>0</th>\n",
       "      <td>0</td>\n",
       "      <td>NaN</td>\n",
       "      <td>3.181000e+09</td>\n",
       "      <td>1.455000e+09</td>\n",
       "      <td>2000000.0</td>\n",
       "      <td>9.044000e+09</td>\n",
       "      <td>1.674100e+10</td>\n",
       "      <td>5.654000e+09</td>\n",
       "      <td>0.61</td>\n",
       "      <td>113000000.0</td>\n",
       "      <td>...</td>\n",
       "      <td>NaN</td>\n",
       "      <td>NaN</td>\n",
       "      <td>NaN</td>\n",
       "      <td>NaN</td>\n",
       "      <td>NaN</td>\n",
       "      <td>NaN</td>\n",
       "      <td>NaN</td>\n",
       "      <td>NaN</td>\n",
       "      <td>NaN</td>\n",
       "      <td>AA$</td>\n",
       "    </tr>\n",
       "    <tr>\n",
       "      <th>1</th>\n",
       "      <td>1</td>\n",
       "      <td>NaN</td>\n",
       "      <td>3.181000e+09</td>\n",
       "      <td>1.455000e+09</td>\n",
       "      <td>2000000.0</td>\n",
       "      <td>9.044000e+09</td>\n",
       "      <td>1.674100e+10</td>\n",
       "      <td>5.654000e+09</td>\n",
       "      <td>0.41</td>\n",
       "      <td>75000000.0</td>\n",
       "      <td>...</td>\n",
       "      <td>NaN</td>\n",
       "      <td>NaN</td>\n",
       "      <td>NaN</td>\n",
       "      <td>NaN</td>\n",
       "      <td>NaN</td>\n",
       "      <td>NaN</td>\n",
       "      <td>NaN</td>\n",
       "      <td>NaN</td>\n",
       "      <td>NaN</td>\n",
       "      <td>AA$</td>\n",
       "    </tr>\n",
       "    <tr>\n",
       "      <th>2</th>\n",
       "      <td>2</td>\n",
       "      <td>NaN</td>\n",
       "      <td>3.181000e+09</td>\n",
       "      <td>1.455000e+09</td>\n",
       "      <td>2000000.0</td>\n",
       "      <td>9.044000e+09</td>\n",
       "      <td>1.674100e+10</td>\n",
       "      <td>5.654000e+09</td>\n",
       "      <td>-1.15</td>\n",
       "      <td>-210000000.0</td>\n",
       "      <td>...</td>\n",
       "      <td>NaN</td>\n",
       "      <td>NaN</td>\n",
       "      <td>NaN</td>\n",
       "      <td>NaN</td>\n",
       "      <td>NaN</td>\n",
       "      <td>NaN</td>\n",
       "      <td>NaN</td>\n",
       "      <td>NaN</td>\n",
       "      <td>NaN</td>\n",
       "      <td>AA$</td>\n",
       "    </tr>\n",
       "    <tr>\n",
       "      <th>3</th>\n",
       "      <td>3</td>\n",
       "      <td>182930995.0</td>\n",
       "      <td>3.181000e+09</td>\n",
       "      <td>1.455000e+09</td>\n",
       "      <td>2000000.0</td>\n",
       "      <td>9.044000e+09</td>\n",
       "      <td>1.674100e+10</td>\n",
       "      <td>5.654000e+09</td>\n",
       "      <td>-1.15</td>\n",
       "      <td>-400000000.0</td>\n",
       "      <td>...</td>\n",
       "      <td>NaN</td>\n",
       "      <td>NaN</td>\n",
       "      <td>NaN</td>\n",
       "      <td>NaN</td>\n",
       "      <td>NaN</td>\n",
       "      <td>NaN</td>\n",
       "      <td>NaN</td>\n",
       "      <td>NaN</td>\n",
       "      <td>NaN</td>\n",
       "      <td>AA$</td>\n",
       "    </tr>\n",
       "    <tr>\n",
       "      <th>4</th>\n",
       "      <td>4</td>\n",
       "      <td>182471195.0</td>\n",
       "      <td>2.566000e+09</td>\n",
       "      <td>1.379000e+09</td>\n",
       "      <td>2000000.0</td>\n",
       "      <td>4.900000e+09</td>\n",
       "      <td>1.641300e+10</td>\n",
       "      <td>9.442000e+09</td>\n",
       "      <td>-1.15</td>\n",
       "      <td>-6000000.0</td>\n",
       "      <td>...</td>\n",
       "      <td>NaN</td>\n",
       "      <td>NaN</td>\n",
       "      <td>NaN</td>\n",
       "      <td>NaN</td>\n",
       "      <td>NaN</td>\n",
       "      <td>NaN</td>\n",
       "      <td>NaN</td>\n",
       "      <td>NaN</td>\n",
       "      <td>NaN</td>\n",
       "      <td>AA$</td>\n",
       "    </tr>\n",
       "  </tbody>\n",
       "</table>\n",
       "<p>5 rows × 45 columns</p>\n",
       "</div>"
      ],
      "text/plain": [
       "   Unnamed: 0  commonstocksharesissued  assetscurrent  accountspayablecurrent  \\\n",
       "0           0                      NaN   3.181000e+09            1.455000e+09   \n",
       "1           1                      NaN   3.181000e+09            1.455000e+09   \n",
       "2           2                      NaN   3.181000e+09            1.455000e+09   \n",
       "3           3              182930995.0   3.181000e+09            1.455000e+09   \n",
       "4           4              182471195.0   2.566000e+09            1.379000e+09   \n",
       "\n",
       "   commonstockvalue   liabilities  liabilitiesandstockholdersequity  \\\n",
       "0         2000000.0  9.044000e+09                      1.674100e+10   \n",
       "1         2000000.0  9.044000e+09                      1.674100e+10   \n",
       "2         2000000.0  9.044000e+09                      1.674100e+10   \n",
       "3         2000000.0  9.044000e+09                      1.674100e+10   \n",
       "4         2000000.0  4.900000e+09                      1.641300e+10   \n",
       "\n",
       "   stockholdersequity  earningspersharebasic  netincomeloss  ...  \\\n",
       "0        5.654000e+09                   0.61    113000000.0  ...   \n",
       "1        5.654000e+09                   0.41     75000000.0  ...   \n",
       "2        5.654000e+09                  -1.15   -210000000.0  ...   \n",
       "3        5.654000e+09                  -1.15   -400000000.0  ...   \n",
       "4        9.442000e+09                  -1.15     -6000000.0  ...   \n",
       "\n",
       "   officerscompensation  intangibleassetscurrent salariesandwages  \\\n",
       "0                   NaN                      NaN              NaN   \n",
       "1                   NaN                      NaN              NaN   \n",
       "2                   NaN                      NaN              NaN   \n",
       "3                   NaN                      NaN              NaN   \n",
       "4                   NaN                      NaN              NaN   \n",
       "\n",
       "   interestanddebtexpense  convertibledebt  assetmanagementcosts  \\\n",
       "0                     NaN              NaN                   NaN   \n",
       "1                     NaN              NaN                   NaN   \n",
       "2                     NaN              NaN                   NaN   \n",
       "3                     NaN              NaN                   NaN   \n",
       "4                     NaN              NaN                   NaN   \n",
       "\n",
       "   accountsreceivablegross  directoperatingcosts  operatingcycle  stock  \n",
       "0                      NaN                   NaN             NaN    AA$  \n",
       "1                      NaN                   NaN             NaN    AA$  \n",
       "2                      NaN                   NaN             NaN    AA$  \n",
       "3                      NaN                   NaN             NaN    AA$  \n",
       "4                      NaN                   NaN             NaN    AA$  \n",
       "\n",
       "[5 rows x 45 columns]"
      ]
     },
     "execution_count": 3,
     "metadata": {},
     "output_type": "execute_result"
    }
   ],
   "source": [
    "df.head(5)"
   ]
  },
  {
   "cell_type": "code",
   "execution_count": 7,
   "metadata": {},
   "outputs": [
    {
     "name": "stdout",
     "output_type": "stream",
     "text": [
      "<class 'pandas.core.frame.DataFrame'>\n",
      "RangeIndex: 101787 entries, 0 to 101786\n",
      "Data columns (total 45 columns):\n",
      " #   Column                            Non-Null Count   Dtype  \n",
      "---  ------                            --------------   -----  \n",
      " 0   Unnamed: 0                        101787 non-null  int64  \n",
      " 1   commonstocksharesissued           93171 non-null   float64\n",
      " 2   assetscurrent                     77232 non-null   float64\n",
      " 3   accountspayablecurrent            65972 non-null   float64\n",
      " 4   commonstockvalue                  90450 non-null   float64\n",
      " 5   liabilities                       82421 non-null   float64\n",
      " 6   liabilitiesandstockholdersequity  101368 non-null  float64\n",
      " 7   stockholdersequity                96902 non-null   float64\n",
      " 8   earningspersharebasic             91441 non-null   float64\n",
      " 9   netincomeloss                     97053 non-null   float64\n",
      " 10  profitloss                        58173 non-null   float64\n",
      " 11  costofgoodssold                   30120 non-null   float64\n",
      " 12  filing_date                       101787 non-null  object \n",
      " 13  costsandexpenses                  30016 non-null   float64\n",
      " 14  cash                              20564 non-null   float64\n",
      " 15  notespayable                      14375 non-null   float64\n",
      " 16  preferredstockvalue               16620 non-null   float64\n",
      " 17  depreciation                      65047 non-null   float64\n",
      " 18  operatingexpenses                 49918 non-null   float64\n",
      " 19  revenues                          66226 non-null   float64\n",
      " 20  land                              21828 non-null   float64\n",
      " 21  accountsreceivablenet             13999 non-null   float64\n",
      " 22  deferredrevenue                   19684 non-null   float64\n",
      " 23  grossprofit                       48860 non-null   float64\n",
      " 24  sharesissued                      29901 non-null   float64\n",
      " 25  accruedincometaxes                6833 non-null    float64\n",
      " 26  sharesoutstanding                 36491 non-null   float64\n",
      " 27  borrowedfunds                     1713 non-null    float64\n",
      " 28  inventorygross                    8072 non-null    float64\n",
      " 29  commercialpaper                   6134 non-null    float64\n",
      " 30  dividends                         14328 non-null   float64\n",
      " 31  commonstocknoparvalue             707 non-null     float64\n",
      " 32  costofservices                    13042 non-null   float64\n",
      " 33  debtcurrent                       14081 non-null   float64\n",
      " 34  accruedinsurancecurrent           5460 non-null    float64\n",
      " 35  officerscompensation              3541 non-null    float64\n",
      " 36  intangibleassetscurrent           1081 non-null    float64\n",
      " 37  salariesandwages                  2753 non-null    float64\n",
      " 38  interestanddebtexpense            5383 non-null    float64\n",
      " 39  convertibledebt                   6387 non-null    float64\n",
      " 40  assetmanagementcosts              1692 non-null    float64\n",
      " 41  accountsreceivablegross           5508 non-null    float64\n",
      " 42  directoperatingcosts              2156 non-null    float64\n",
      " 43  operatingcycle                    387 non-null     object \n",
      " 44  stock                             101787 non-null  object \n",
      "dtypes: float64(41), int64(1), object(3)\n",
      "memory usage: 34.9+ MB\n"
     ]
    }
   ],
   "source": [
    "df.info()"
   ]
  },
  {
   "cell_type": "code",
   "execution_count": 8,
   "metadata": {},
   "outputs": [
    {
     "data": {
      "text/plain": [
       "Unnamed: 0                               0\n",
       "commonstocksharesissued               8616\n",
       "assetscurrent                        24555\n",
       "accountspayablecurrent               35815\n",
       "commonstockvalue                     11337\n",
       "liabilities                          19366\n",
       "liabilitiesandstockholdersequity       419\n",
       "stockholdersequity                    4885\n",
       "earningspersharebasic                10346\n",
       "netincomeloss                         4734\n",
       "profitloss                           43614\n",
       "costofgoodssold                      71667\n",
       "filing_date                              0\n",
       "costsandexpenses                     71771\n",
       "cash                                 81223\n",
       "notespayable                         87412\n",
       "preferredstockvalue                  85167\n",
       "depreciation                         36740\n",
       "operatingexpenses                    51869\n",
       "revenues                             35561\n",
       "land                                 79959\n",
       "accountsreceivablenet                87788\n",
       "deferredrevenue                      82103\n",
       "grossprofit                          52927\n",
       "sharesissued                         71886\n",
       "accruedincometaxes                   94954\n",
       "sharesoutstanding                    65296\n",
       "borrowedfunds                       100074\n",
       "inventorygross                       93715\n",
       "commercialpaper                      95653\n",
       "dividends                            87459\n",
       "commonstocknoparvalue               101080\n",
       "costofservices                       88745\n",
       "debtcurrent                          87706\n",
       "accruedinsurancecurrent              96327\n",
       "officerscompensation                 98246\n",
       "intangibleassetscurrent             100706\n",
       "salariesandwages                     99034\n",
       "interestanddebtexpense               96404\n",
       "convertibledebt                      95400\n",
       "assetmanagementcosts                100095\n",
       "accountsreceivablegross              96279\n",
       "directoperatingcosts                 99631\n",
       "operatingcycle                      101400\n",
       "stock                                    0\n",
       "dtype: int64"
      ]
     },
     "execution_count": 8,
     "metadata": {},
     "output_type": "execute_result"
    }
   ],
   "source": [
    "df.isnull().sum()"
   ]
  },
  {
   "cell_type": "code",
   "execution_count": 9,
   "metadata": {},
   "outputs": [],
   "source": [
    "newdf = df.dropna()"
   ]
  },
  {
   "cell_type": "code",
   "execution_count": 10,
   "metadata": {},
   "outputs": [
    {
     "data": {
      "text/plain": [
       "0"
      ]
     },
     "execution_count": 10,
     "metadata": {},
     "output_type": "execute_result"
    }
   ],
   "source": [
    "len(newdf.index)"
   ]
  },
  {
   "cell_type": "markdown",
   "metadata": {},
   "source": [
    "**This data is wild, let's use some Credit Card Payment data instead**"
   ]
  },
  {
   "cell_type": "code",
   "execution_count": 13,
   "metadata": {},
   "outputs": [
    {
     "data": {
      "text/html": [
       "<div>\n",
       "<style scoped>\n",
       "    .dataframe tbody tr th:only-of-type {\n",
       "        vertical-align: middle;\n",
       "    }\n",
       "\n",
       "    .dataframe tbody tr th {\n",
       "        vertical-align: top;\n",
       "    }\n",
       "\n",
       "    .dataframe thead th {\n",
       "        text-align: right;\n",
       "    }\n",
       "</style>\n",
       "<table border=\"1\" class=\"dataframe\">\n",
       "  <thead>\n",
       "    <tr style=\"text-align: right;\">\n",
       "      <th></th>\n",
       "      <th>ID</th>\n",
       "      <th>LIMIT_BAL</th>\n",
       "      <th>SEX</th>\n",
       "      <th>EDUCATION</th>\n",
       "      <th>MARRIAGE</th>\n",
       "      <th>AGE</th>\n",
       "      <th>PAY_0</th>\n",
       "      <th>PAY_2</th>\n",
       "      <th>PAY_3</th>\n",
       "      <th>PAY_4</th>\n",
       "      <th>...</th>\n",
       "      <th>BILL_AMT4</th>\n",
       "      <th>BILL_AMT5</th>\n",
       "      <th>BILL_AMT6</th>\n",
       "      <th>PAY_AMT1</th>\n",
       "      <th>PAY_AMT2</th>\n",
       "      <th>PAY_AMT3</th>\n",
       "      <th>PAY_AMT4</th>\n",
       "      <th>PAY_AMT5</th>\n",
       "      <th>PAY_AMT6</th>\n",
       "      <th>default.payment.next.month</th>\n",
       "    </tr>\n",
       "  </thead>\n",
       "  <tbody>\n",
       "    <tr>\n",
       "      <th>0</th>\n",
       "      <td>1</td>\n",
       "      <td>20000.0</td>\n",
       "      <td>2</td>\n",
       "      <td>2</td>\n",
       "      <td>1</td>\n",
       "      <td>24</td>\n",
       "      <td>2</td>\n",
       "      <td>2</td>\n",
       "      <td>-1</td>\n",
       "      <td>-1</td>\n",
       "      <td>...</td>\n",
       "      <td>0.0</td>\n",
       "      <td>0.0</td>\n",
       "      <td>0.0</td>\n",
       "      <td>0.0</td>\n",
       "      <td>689.0</td>\n",
       "      <td>0.0</td>\n",
       "      <td>0.0</td>\n",
       "      <td>0.0</td>\n",
       "      <td>0.0</td>\n",
       "      <td>1</td>\n",
       "    </tr>\n",
       "    <tr>\n",
       "      <th>1</th>\n",
       "      <td>2</td>\n",
       "      <td>120000.0</td>\n",
       "      <td>2</td>\n",
       "      <td>2</td>\n",
       "      <td>2</td>\n",
       "      <td>26</td>\n",
       "      <td>-1</td>\n",
       "      <td>2</td>\n",
       "      <td>0</td>\n",
       "      <td>0</td>\n",
       "      <td>...</td>\n",
       "      <td>3272.0</td>\n",
       "      <td>3455.0</td>\n",
       "      <td>3261.0</td>\n",
       "      <td>0.0</td>\n",
       "      <td>1000.0</td>\n",
       "      <td>1000.0</td>\n",
       "      <td>1000.0</td>\n",
       "      <td>0.0</td>\n",
       "      <td>2000.0</td>\n",
       "      <td>1</td>\n",
       "    </tr>\n",
       "    <tr>\n",
       "      <th>2</th>\n",
       "      <td>3</td>\n",
       "      <td>90000.0</td>\n",
       "      <td>2</td>\n",
       "      <td>2</td>\n",
       "      <td>2</td>\n",
       "      <td>34</td>\n",
       "      <td>0</td>\n",
       "      <td>0</td>\n",
       "      <td>0</td>\n",
       "      <td>0</td>\n",
       "      <td>...</td>\n",
       "      <td>14331.0</td>\n",
       "      <td>14948.0</td>\n",
       "      <td>15549.0</td>\n",
       "      <td>1518.0</td>\n",
       "      <td>1500.0</td>\n",
       "      <td>1000.0</td>\n",
       "      <td>1000.0</td>\n",
       "      <td>1000.0</td>\n",
       "      <td>5000.0</td>\n",
       "      <td>0</td>\n",
       "    </tr>\n",
       "    <tr>\n",
       "      <th>3</th>\n",
       "      <td>4</td>\n",
       "      <td>50000.0</td>\n",
       "      <td>2</td>\n",
       "      <td>2</td>\n",
       "      <td>1</td>\n",
       "      <td>37</td>\n",
       "      <td>0</td>\n",
       "      <td>0</td>\n",
       "      <td>0</td>\n",
       "      <td>0</td>\n",
       "      <td>...</td>\n",
       "      <td>28314.0</td>\n",
       "      <td>28959.0</td>\n",
       "      <td>29547.0</td>\n",
       "      <td>2000.0</td>\n",
       "      <td>2019.0</td>\n",
       "      <td>1200.0</td>\n",
       "      <td>1100.0</td>\n",
       "      <td>1069.0</td>\n",
       "      <td>1000.0</td>\n",
       "      <td>0</td>\n",
       "    </tr>\n",
       "    <tr>\n",
       "      <th>4</th>\n",
       "      <td>5</td>\n",
       "      <td>50000.0</td>\n",
       "      <td>1</td>\n",
       "      <td>2</td>\n",
       "      <td>1</td>\n",
       "      <td>57</td>\n",
       "      <td>-1</td>\n",
       "      <td>0</td>\n",
       "      <td>-1</td>\n",
       "      <td>0</td>\n",
       "      <td>...</td>\n",
       "      <td>20940.0</td>\n",
       "      <td>19146.0</td>\n",
       "      <td>19131.0</td>\n",
       "      <td>2000.0</td>\n",
       "      <td>36681.0</td>\n",
       "      <td>10000.0</td>\n",
       "      <td>9000.0</td>\n",
       "      <td>689.0</td>\n",
       "      <td>679.0</td>\n",
       "      <td>0</td>\n",
       "    </tr>\n",
       "  </tbody>\n",
       "</table>\n",
       "<p>5 rows × 25 columns</p>\n",
       "</div>"
      ],
      "text/plain": [
       "   ID  LIMIT_BAL  SEX  EDUCATION  MARRIAGE  AGE  PAY_0  PAY_2  PAY_3  PAY_4  \\\n",
       "0   1    20000.0    2          2         1   24      2      2     -1     -1   \n",
       "1   2   120000.0    2          2         2   26     -1      2      0      0   \n",
       "2   3    90000.0    2          2         2   34      0      0      0      0   \n",
       "3   4    50000.0    2          2         1   37      0      0      0      0   \n",
       "4   5    50000.0    1          2         1   57     -1      0     -1      0   \n",
       "\n",
       "   ...  BILL_AMT4  BILL_AMT5  BILL_AMT6  PAY_AMT1  PAY_AMT2  PAY_AMT3  \\\n",
       "0  ...        0.0        0.0        0.0       0.0     689.0       0.0   \n",
       "1  ...     3272.0     3455.0     3261.0       0.0    1000.0    1000.0   \n",
       "2  ...    14331.0    14948.0    15549.0    1518.0    1500.0    1000.0   \n",
       "3  ...    28314.0    28959.0    29547.0    2000.0    2019.0    1200.0   \n",
       "4  ...    20940.0    19146.0    19131.0    2000.0   36681.0   10000.0   \n",
       "\n",
       "   PAY_AMT4  PAY_AMT5  PAY_AMT6  default.payment.next.month  \n",
       "0       0.0       0.0       0.0                           1  \n",
       "1    1000.0       0.0    2000.0                           1  \n",
       "2    1000.0    1000.0    5000.0                           0  \n",
       "3    1100.0    1069.0    1000.0                           0  \n",
       "4    9000.0     689.0     679.0                           0  \n",
       "\n",
       "[5 rows x 25 columns]"
      ]
     },
     "execution_count": 13,
     "metadata": {},
     "output_type": "execute_result"
    }
   ],
   "source": [
    "df = pd.read_csv('UCI_Credit_Card.csv')\n",
    "df.head(5)"
   ]
  },
  {
   "cell_type": "markdown",
   "metadata": {},
   "source": [
    "Default payment next month is our target value, with 1 = yes, and 0 = no. Also, the BAL is in New Taiwanese currency, and Sex: 1 = Male, 2 = Female."
   ]
  },
  {
   "cell_type": "code",
   "execution_count": 14,
   "metadata": {},
   "outputs": [
    {
     "name": "stdout",
     "output_type": "stream",
     "text": [
      "<class 'pandas.core.frame.DataFrame'>\n",
      "RangeIndex: 30000 entries, 0 to 29999\n",
      "Data columns (total 25 columns):\n",
      " #   Column                      Non-Null Count  Dtype  \n",
      "---  ------                      --------------  -----  \n",
      " 0   ID                          30000 non-null  int64  \n",
      " 1   LIMIT_BAL                   30000 non-null  float64\n",
      " 2   SEX                         30000 non-null  int64  \n",
      " 3   EDUCATION                   30000 non-null  int64  \n",
      " 4   MARRIAGE                    30000 non-null  int64  \n",
      " 5   AGE                         30000 non-null  int64  \n",
      " 6   PAY_0                       30000 non-null  int64  \n",
      " 7   PAY_2                       30000 non-null  int64  \n",
      " 8   PAY_3                       30000 non-null  int64  \n",
      " 9   PAY_4                       30000 non-null  int64  \n",
      " 10  PAY_5                       30000 non-null  int64  \n",
      " 11  PAY_6                       30000 non-null  int64  \n",
      " 12  BILL_AMT1                   30000 non-null  float64\n",
      " 13  BILL_AMT2                   30000 non-null  float64\n",
      " 14  BILL_AMT3                   30000 non-null  float64\n",
      " 15  BILL_AMT4                   30000 non-null  float64\n",
      " 16  BILL_AMT5                   30000 non-null  float64\n",
      " 17  BILL_AMT6                   30000 non-null  float64\n",
      " 18  PAY_AMT1                    30000 non-null  float64\n",
      " 19  PAY_AMT2                    30000 non-null  float64\n",
      " 20  PAY_AMT3                    30000 non-null  float64\n",
      " 21  PAY_AMT4                    30000 non-null  float64\n",
      " 22  PAY_AMT5                    30000 non-null  float64\n",
      " 23  PAY_AMT6                    30000 non-null  float64\n",
      " 24  default.payment.next.month  30000 non-null  int64  \n",
      "dtypes: float64(13), int64(12)\n",
      "memory usage: 5.7 MB\n"
     ]
    }
   ],
   "source": [
    "df.info()"
   ]
  },
  {
   "cell_type": "code",
   "execution_count": 15,
   "metadata": {},
   "outputs": [
    {
     "data": {
      "text/plain": [
       "ID                            0\n",
       "LIMIT_BAL                     0\n",
       "SEX                           0\n",
       "EDUCATION                     0\n",
       "MARRIAGE                      0\n",
       "AGE                           0\n",
       "PAY_0                         0\n",
       "PAY_2                         0\n",
       "PAY_3                         0\n",
       "PAY_4                         0\n",
       "PAY_5                         0\n",
       "PAY_6                         0\n",
       "BILL_AMT1                     0\n",
       "BILL_AMT2                     0\n",
       "BILL_AMT3                     0\n",
       "BILL_AMT4                     0\n",
       "BILL_AMT5                     0\n",
       "BILL_AMT6                     0\n",
       "PAY_AMT1                      0\n",
       "PAY_AMT2                      0\n",
       "PAY_AMT3                      0\n",
       "PAY_AMT4                      0\n",
       "PAY_AMT5                      0\n",
       "PAY_AMT6                      0\n",
       "default.payment.next.month    0\n",
       "dtype: int64"
      ]
     },
     "execution_count": 15,
     "metadata": {},
     "output_type": "execute_result"
    }
   ],
   "source": [
    "df.isnull().sum()"
   ]
  },
  {
   "cell_type": "code",
   "execution_count": 18,
   "metadata": {},
   "outputs": [
    {
     "data": {
      "text/plain": [
       "<Axes: xlabel='LIMIT_BAL'>"
      ]
     },
     "execution_count": 18,
     "metadata": {},
     "output_type": "execute_result"
    },
    {
     "data": {
      "image/png": "[encoded data removed]",
      "text/plain": [
       "<Figure size 640x480 with 1 Axes>"
      ]
     },
     "metadata": {},
     "output_type": "display_data"
    }
   ],
   "source": [
    "sns.boxplot(x = df['LIMIT_BAL'])"
   ]
  },
  {
   "cell_type": "markdown",
   "metadata": {},
   "source": [
    "Outlier, so we will drop. "
   ]
  },
  {
   "cell_type": "code",
   "execution_count": 19,
   "metadata": {},
   "outputs": [
    {
     "data": {
      "text/plain": [
       "count      30000.000000\n",
       "mean      167484.322667\n",
       "std       129747.661567\n",
       "min        10000.000000\n",
       "25%        50000.000000\n",
       "50%       140000.000000\n",
       "75%       240000.000000\n",
       "max      1000000.000000\n",
       "Name: LIMIT_BAL, dtype: float64"
      ]
     },
     "execution_count": 19,
     "metadata": {},
     "output_type": "execute_result"
    }
   ],
   "source": [
    "df['LIMIT_BAL'].describe()"
   ]
  },
  {
   "cell_type": "code",
   "execution_count": 21,
   "metadata": {},
   "outputs": [
    {
     "data": {
      "text/plain": [
       "<Axes: xlabel='LIMIT_BAL'>"
      ]
     },
     "execution_count": 21,
     "metadata": {},
     "output_type": "execute_result"
    },
    {
     "data": {
      "image/png": "[encoded data removed]",
      "text/plain": [
       "<Figure size 640x480 with 1 Axes>"
      ]
     },
     "metadata": {},
     "output_type": "display_data"
    }
   ],
   "source": [
    "df = df[df['LIMIT_BAL'] < 900000]\n",
    "sns.boxplot(x = df['LIMIT_BAL'])"
   ]
  },
  {
   "cell_type": "code",
   "execution_count": null,
   "metadata": {},
   "outputs": [],
   "source": []
  }
 ],
 "metadata": {
  "kernelspec": {
   "display_name": "Python 3",
   "language": "python",
   "name": "python3"
  },
  "language_info": {
   "codemirror_mode": {
    "name": "ipython",
    "version": 3
   },
   "file_extension": ".py",
   "mimetype": "text/x-python",
   "name": "python",
   "nbconvert_exporter": "python",
   "pygments_lexer": "ipython3",
   "version": "3.11.9"
  }
 },
 "nbformat": 4,
 "nbformat_minor": 2
}
