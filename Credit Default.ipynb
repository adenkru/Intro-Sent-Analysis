{
 "cells": [
  {
   "cell_type": "markdown",
   "metadata": {},
   "source": [
    "**Credit Default Project**\n",
    "\n",
    "Gotta first learn what a credit default is "
   ]
  },
  {
   "cell_type": "code",
   "execution_count": 2,
   "metadata": {},
   "outputs": [],
   "source": [
    "import pandas as pd\n",
    "import matplotlib.pyplot as plt\n",
    "import numpy as np \n",
    "import seaborn as sns\n",
    "from sklearn.preprocessing import StandardScaler\n",
    "import warnings\n",
    "warnings.filterwarnings('ignore')"
   ]
  },
  {
   "cell_type": "code",
   "execution_count": 3,
   "metadata": {},
   "outputs": [
    {
     "name": "stderr",
     "output_type": "stream",
     "text": [
      "C:\\Users\\adenm\\AppData\\Local\\Temp\\ipykernel_21228\\1590958512.py:1: DtypeWarning: Columns (43) have mixed types. Specify dtype option on import or set low_memory=False.\n",
      "  df = pd.read_csv('SEC_EDGAR.csv')\n"
     ]
    }
   ],
   "source": [
    "df = pd.read_csv('SEC_EDGAR.csv')"
   ]
  },
  {
   "cell_type": "code",
   "execution_count": 4,
   "metadata": {},
   "outputs": [
    {
     "data": {
      "text/html": [
       "<div>\n",
       "<style scoped>\n",
       "    .dataframe tbody tr th:only-of-type {\n",
       "        vertical-align: middle;\n",
       "    }\n",
       "\n",
       "    .dataframe tbody tr th {\n",
       "        vertical-align: top;\n",
       "    }\n",
       "\n",
       "    .dataframe thead th {\n",
       "        text-align: right;\n",
       "    }\n",
       "</style>\n",
       "<table border=\"1\" class=\"dataframe\">\n",
       "  <thead>\n",
       "    <tr style=\"text-align: right;\">\n",
       "      <th></th>\n",
       "      <th>Unnamed: 0</th>\n",
       "      <th>commonstocksharesissued</th>\n",
       "      <th>assetscurrent</th>\n",
       "      <th>accountspayablecurrent</th>\n",
       "      <th>commonstockvalue</th>\n",
       "      <th>liabilities</th>\n",
       "      <th>liabilitiesandstockholdersequity</th>\n",
       "      <th>stockholdersequity</th>\n",
       "      <th>earningspersharebasic</th>\n",
       "      <th>netincomeloss</th>\n",
       "      <th>...</th>\n",
       "      <th>officerscompensation</th>\n",
       "      <th>intangibleassetscurrent</th>\n",
       "      <th>salariesandwages</th>\n",
       "      <th>interestanddebtexpense</th>\n",
       "      <th>convertibledebt</th>\n",
       "      <th>assetmanagementcosts</th>\n",
       "      <th>accountsreceivablegross</th>\n",
       "      <th>directoperatingcosts</th>\n",
       "      <th>operatingcycle</th>\n",
       "      <th>stock</th>\n",
       "    </tr>\n",
       "  </thead>\n",
       "  <tbody>\n",
       "    <tr>\n",
       "      <th>0</th>\n",
       "      <td>0</td>\n",
       "      <td>NaN</td>\n",
       "      <td>3.181000e+09</td>\n",
       "      <td>1.455000e+09</td>\n",
       "      <td>2000000.0</td>\n",
       "      <td>9.044000e+09</td>\n",
       "      <td>1.674100e+10</td>\n",
       "      <td>5.654000e+09</td>\n",
       "      <td>0.61</td>\n",
       "      <td>113000000.0</td>\n",
       "      <td>...</td>\n",
       "      <td>NaN</td>\n",
       "      <td>NaN</td>\n",
       "      <td>NaN</td>\n",
       "      <td>NaN</td>\n",
       "      <td>NaN</td>\n",
       "      <td>NaN</td>\n",
       "      <td>NaN</td>\n",
       "      <td>NaN</td>\n",
       "      <td>NaN</td>\n",
       "      <td>AA$</td>\n",
       "    </tr>\n",
       "    <tr>\n",
       "      <th>1</th>\n",
       "      <td>1</td>\n",
       "      <td>NaN</td>\n",
       "      <td>3.181000e+09</td>\n",
       "      <td>1.455000e+09</td>\n",
       "      <td>2000000.0</td>\n",
       "      <td>9.044000e+09</td>\n",
       "      <td>1.674100e+10</td>\n",
       "      <td>5.654000e+09</td>\n",
       "      <td>0.41</td>\n",
       "      <td>75000000.0</td>\n",
       "      <td>...</td>\n",
       "      <td>NaN</td>\n",
       "      <td>NaN</td>\n",
       "      <td>NaN</td>\n",
       "      <td>NaN</td>\n",
       "      <td>NaN</td>\n",
       "      <td>NaN</td>\n",
       "      <td>NaN</td>\n",
       "      <td>NaN</td>\n",
       "      <td>NaN</td>\n",
       "      <td>AA$</td>\n",
       "    </tr>\n",
       "    <tr>\n",
       "      <th>2</th>\n",
       "      <td>2</td>\n",
       "      <td>NaN</td>\n",
       "      <td>3.181000e+09</td>\n",
       "      <td>1.455000e+09</td>\n",
       "      <td>2000000.0</td>\n",
       "      <td>9.044000e+09</td>\n",
       "      <td>1.674100e+10</td>\n",
       "      <td>5.654000e+09</td>\n",
       "      <td>-1.15</td>\n",
       "      <td>-210000000.0</td>\n",
       "      <td>...</td>\n",
       "      <td>NaN</td>\n",
       "      <td>NaN</td>\n",
       "      <td>NaN</td>\n",
       "      <td>NaN</td>\n",
       "      <td>NaN</td>\n",
       "      <td>NaN</td>\n",
       "      <td>NaN</td>\n",
       "      <td>NaN</td>\n",
       "      <td>NaN</td>\n",
       "      <td>AA$</td>\n",
       "    </tr>\n",
       "    <tr>\n",
       "      <th>3</th>\n",
       "      <td>3</td>\n",
       "      <td>182930995.0</td>\n",
       "      <td>3.181000e+09</td>\n",
       "      <td>1.455000e+09</td>\n",
       "      <td>2000000.0</td>\n",
       "      <td>9.044000e+09</td>\n",
       "      <td>1.674100e+10</td>\n",
       "      <td>5.654000e+09</td>\n",
       "      <td>-1.15</td>\n",
       "      <td>-400000000.0</td>\n",
       "      <td>...</td>\n",
       "      <td>NaN</td>\n",
       "      <td>NaN</td>\n",
       "      <td>NaN</td>\n",
       "      <td>NaN</td>\n",
       "      <td>NaN</td>\n",
       "      <td>NaN</td>\n",
       "      <td>NaN</td>\n",
       "      <td>NaN</td>\n",
       "      <td>NaN</td>\n",
       "      <td>AA$</td>\n",
       "    </tr>\n",
       "    <tr>\n",
       "      <th>4</th>\n",
       "      <td>4</td>\n",
       "      <td>182471195.0</td>\n",
       "      <td>2.566000e+09</td>\n",
       "      <td>1.379000e+09</td>\n",
       "      <td>2000000.0</td>\n",
       "      <td>4.900000e+09</td>\n",
       "      <td>1.641300e+10</td>\n",
       "      <td>9.442000e+09</td>\n",
       "      <td>-1.15</td>\n",
       "      <td>-6000000.0</td>\n",
       "      <td>...</td>\n",
       "      <td>NaN</td>\n",
       "      <td>NaN</td>\n",
       "      <td>NaN</td>\n",
       "      <td>NaN</td>\n",
       "      <td>NaN</td>\n",
       "      <td>NaN</td>\n",
       "      <td>NaN</td>\n",
       "      <td>NaN</td>\n",
       "      <td>NaN</td>\n",
       "      <td>AA$</td>\n",
       "    </tr>\n",
       "  </tbody>\n",
       "</table>\n",
       "<p>5 rows × 45 columns</p>\n",
       "</div>"
      ],
      "text/plain": [
       "   Unnamed: 0  commonstocksharesissued  assetscurrent  accountspayablecurrent  \\\n",
       "0           0                      NaN   3.181000e+09            1.455000e+09   \n",
       "1           1                      NaN   3.181000e+09            1.455000e+09   \n",
       "2           2                      NaN   3.181000e+09            1.455000e+09   \n",
       "3           3              182930995.0   3.181000e+09            1.455000e+09   \n",
       "4           4              182471195.0   2.566000e+09            1.379000e+09   \n",
       "\n",
       "   commonstockvalue   liabilities  liabilitiesandstockholdersequity  \\\n",
       "0         2000000.0  9.044000e+09                      1.674100e+10   \n",
       "1         2000000.0  9.044000e+09                      1.674100e+10   \n",
       "2         2000000.0  9.044000e+09                      1.674100e+10   \n",
       "3         2000000.0  9.044000e+09                      1.674100e+10   \n",
       "4         2000000.0  4.900000e+09                      1.641300e+10   \n",
       "\n",
       "   stockholdersequity  earningspersharebasic  netincomeloss  ...  \\\n",
       "0        5.654000e+09                   0.61    113000000.0  ...   \n",
       "1        5.654000e+09                   0.41     75000000.0  ...   \n",
       "2        5.654000e+09                  -1.15   -210000000.0  ...   \n",
       "3        5.654000e+09                  -1.15   -400000000.0  ...   \n",
       "4        9.442000e+09                  -1.15     -6000000.0  ...   \n",
       "\n",
       "   officerscompensation  intangibleassetscurrent salariesandwages  \\\n",
       "0                   NaN                      NaN              NaN   \n",
       "1                   NaN                      NaN              NaN   \n",
       "2                   NaN                      NaN              NaN   \n",
       "3                   NaN                      NaN              NaN   \n",
       "4                   NaN                      NaN              NaN   \n",
       "\n",
       "   interestanddebtexpense  convertibledebt  assetmanagementcosts  \\\n",
       "0                     NaN              NaN                   NaN   \n",
       "1                     NaN              NaN                   NaN   \n",
       "2                     NaN              NaN                   NaN   \n",
       "3                     NaN              NaN                   NaN   \n",
       "4                     NaN              NaN                   NaN   \n",
       "\n",
       "   accountsreceivablegross  directoperatingcosts  operatingcycle  stock  \n",
       "0                      NaN                   NaN             NaN    AA$  \n",
       "1                      NaN                   NaN             NaN    AA$  \n",
       "2                      NaN                   NaN             NaN    AA$  \n",
       "3                      NaN                   NaN             NaN    AA$  \n",
       "4                      NaN                   NaN             NaN    AA$  \n",
       "\n",
       "[5 rows x 45 columns]"
      ]
     },
     "execution_count": 4,
     "metadata": {},
     "output_type": "execute_result"
    }
   ],
   "source": [
    "df.head(5)"
   ]
  },
  {
   "cell_type": "code",
   "execution_count": 5,
   "metadata": {},
   "outputs": [
    {
     "name": "stdout",
     "output_type": "stream",
     "text": [
      "<class 'pandas.core.frame.DataFrame'>\n",
      "RangeIndex: 101787 entries, 0 to 101786\n",
      "Data columns (total 45 columns):\n",
      " #   Column                            Non-Null Count   Dtype  \n",
      "---  ------                            --------------   -----  \n",
      " 0   Unnamed: 0                        101787 non-null  int64  \n",
      " 1   commonstocksharesissued           93171 non-null   float64\n",
      " 2   assetscurrent                     77232 non-null   float64\n",
      " 3   accountspayablecurrent            65972 non-null   float64\n",
      " 4   commonstockvalue                  90450 non-null   float64\n",
      " 5   liabilities                       82421 non-null   float64\n",
      " 6   liabilitiesandstockholdersequity  101368 non-null  float64\n",
      " 7   stockholdersequity                96902 non-null   float64\n",
      " 8   earningspersharebasic             91441 non-null   float64\n",
      " 9   netincomeloss                     97053 non-null   float64\n",
      " 10  profitloss                        58173 non-null   float64\n",
      " 11  costofgoodssold                   30120 non-null   float64\n",
      " 12  filing_date                       101787 non-null  object \n",
      " 13  costsandexpenses                  30016 non-null   float64\n",
      " 14  cash                              20564 non-null   float64\n",
      " 15  notespayable                      14375 non-null   float64\n",
      " 16  preferredstockvalue               16620 non-null   float64\n",
      " 17  depreciation                      65047 non-null   float64\n",
      " 18  operatingexpenses                 49918 non-null   float64\n",
      " 19  revenues                          66226 non-null   float64\n",
      " 20  land                              21828 non-null   float64\n",
      " 21  accountsreceivablenet             13999 non-null   float64\n",
      " 22  deferredrevenue                   19684 non-null   float64\n",
      " 23  grossprofit                       48860 non-null   float64\n",
      " 24  sharesissued                      29901 non-null   float64\n",
      " 25  accruedincometaxes                6833 non-null    float64\n",
      " 26  sharesoutstanding                 36491 non-null   float64\n",
      " 27  borrowedfunds                     1713 non-null    float64\n",
      " 28  inventorygross                    8072 non-null    float64\n",
      " 29  commercialpaper                   6134 non-null    float64\n",
      " 30  dividends                         14328 non-null   float64\n",
      " 31  commonstocknoparvalue             707 non-null     float64\n",
      " 32  costofservices                    13042 non-null   float64\n",
      " 33  debtcurrent                       14081 non-null   float64\n",
      " 34  accruedinsurancecurrent           5460 non-null    float64\n",
      " 35  officerscompensation              3541 non-null    float64\n",
      " 36  intangibleassetscurrent           1081 non-null    float64\n",
      " 37  salariesandwages                  2753 non-null    float64\n",
      " 38  interestanddebtexpense            5383 non-null    float64\n",
      " 39  convertibledebt                   6387 non-null    float64\n",
      " 40  assetmanagementcosts              1692 non-null    float64\n",
      " 41  accountsreceivablegross           5508 non-null    float64\n",
      " 42  directoperatingcosts              2156 non-null    float64\n",
      " 43  operatingcycle                    387 non-null     object \n",
      " 44  stock                             101787 non-null  object \n",
      "dtypes: float64(41), int64(1), object(3)\n",
      "memory usage: 34.9+ MB\n"
     ]
    }
   ],
   "source": [
    "df.info()"
   ]
  },
  {
   "cell_type": "code",
   "execution_count": 6,
   "metadata": {},
   "outputs": [
    {
     "data": {
      "text/plain": [
       "Unnamed: 0                               0\n",
       "commonstocksharesissued               8616\n",
       "assetscurrent                        24555\n",
       "accountspayablecurrent               35815\n",
       "commonstockvalue                     11337\n",
       "liabilities                          19366\n",
       "liabilitiesandstockholdersequity       419\n",
       "stockholdersequity                    4885\n",
       "earningspersharebasic                10346\n",
       "netincomeloss                         4734\n",
       "profitloss                           43614\n",
       "costofgoodssold                      71667\n",
       "filing_date                              0\n",
       "costsandexpenses                     71771\n",
       "cash                                 81223\n",
       "notespayable                         87412\n",
       "preferredstockvalue                  85167\n",
       "depreciation                         36740\n",
       "operatingexpenses                    51869\n",
       "revenues                             35561\n",
       "land                                 79959\n",
       "accountsreceivablenet                87788\n",
       "deferredrevenue                      82103\n",
       "grossprofit                          52927\n",
       "sharesissued                         71886\n",
       "accruedincometaxes                   94954\n",
       "sharesoutstanding                    65296\n",
       "borrowedfunds                       100074\n",
       "inventorygross                       93715\n",
       "commercialpaper                      95653\n",
       "dividends                            87459\n",
       "commonstocknoparvalue               101080\n",
       "costofservices                       88745\n",
       "debtcurrent                          87706\n",
       "accruedinsurancecurrent              96327\n",
       "officerscompensation                 98246\n",
       "intangibleassetscurrent             100706\n",
       "salariesandwages                     99034\n",
       "interestanddebtexpense               96404\n",
       "convertibledebt                      95400\n",
       "assetmanagementcosts                100095\n",
       "accountsreceivablegross              96279\n",
       "directoperatingcosts                 99631\n",
       "operatingcycle                      101400\n",
       "stock                                    0\n",
       "dtype: int64"
      ]
     },
     "execution_count": 6,
     "metadata": {},
     "output_type": "execute_result"
    }
   ],
   "source": [
    "df.isnull().sum()"
   ]
  },
  {
   "cell_type": "code",
   "execution_count": 7,
   "metadata": {},
   "outputs": [],
   "source": [
    "newdf = df.dropna()"
   ]
  },
  {
   "cell_type": "code",
   "execution_count": 8,
   "metadata": {},
   "outputs": [
    {
     "data": {
      "text/plain": [
       "0"
      ]
     },
     "execution_count": 8,
     "metadata": {},
     "output_type": "execute_result"
    }
   ],
   "source": [
    "len(newdf.index)"
   ]
  },
  {
   "cell_type": "markdown",
   "metadata": {},
   "source": [
    "**This data is wild, let's use some Credit Card Payment data instead**"
   ]
  },
  {
   "cell_type": "code",
   "execution_count": 9,
   "metadata": {},
   "outputs": [
    {
     "data": {
      "text/html": [
       "<div>\n",
       "<style scoped>\n",
       "    .dataframe tbody tr th:only-of-type {\n",
       "        vertical-align: middle;\n",
       "    }\n",
       "\n",
       "    .dataframe tbody tr th {\n",
       "        vertical-align: top;\n",
       "    }\n",
       "\n",
       "    .dataframe thead th {\n",
       "        text-align: right;\n",
       "    }\n",
       "</style>\n",
       "<table border=\"1\" class=\"dataframe\">\n",
       "  <thead>\n",
       "    <tr style=\"text-align: right;\">\n",
       "      <th></th>\n",
       "      <th>ID</th>\n",
       "      <th>LIMIT_BAL</th>\n",
       "      <th>SEX</th>\n",
       "      <th>EDUCATION</th>\n",
       "      <th>MARRIAGE</th>\n",
       "      <th>AGE</th>\n",
       "      <th>PAY_0</th>\n",
       "      <th>PAY_2</th>\n",
       "      <th>PAY_3</th>\n",
       "      <th>PAY_4</th>\n",
       "      <th>...</th>\n",
       "      <th>BILL_AMT4</th>\n",
       "      <th>BILL_AMT5</th>\n",
       "      <th>BILL_AMT6</th>\n",
       "      <th>PAY_AMT1</th>\n",
       "      <th>PAY_AMT2</th>\n",
       "      <th>PAY_AMT3</th>\n",
       "      <th>PAY_AMT4</th>\n",
       "      <th>PAY_AMT5</th>\n",
       "      <th>PAY_AMT6</th>\n",
       "      <th>default.payment.next.month</th>\n",
       "    </tr>\n",
       "  </thead>\n",
       "  <tbody>\n",
       "    <tr>\n",
       "      <th>0</th>\n",
       "      <td>1</td>\n",
       "      <td>20000.0</td>\n",
       "      <td>2</td>\n",
       "      <td>2</td>\n",
       "      <td>1</td>\n",
       "      <td>24</td>\n",
       "      <td>2</td>\n",
       "      <td>2</td>\n",
       "      <td>-1</td>\n",
       "      <td>-1</td>\n",
       "      <td>...</td>\n",
       "      <td>0.0</td>\n",
       "      <td>0.0</td>\n",
       "      <td>0.0</td>\n",
       "      <td>0.0</td>\n",
       "      <td>689.0</td>\n",
       "      <td>0.0</td>\n",
       "      <td>0.0</td>\n",
       "      <td>0.0</td>\n",
       "      <td>0.0</td>\n",
       "      <td>1</td>\n",
       "    </tr>\n",
       "    <tr>\n",
       "      <th>1</th>\n",
       "      <td>2</td>\n",
       "      <td>120000.0</td>\n",
       "      <td>2</td>\n",
       "      <td>2</td>\n",
       "      <td>2</td>\n",
       "      <td>26</td>\n",
       "      <td>-1</td>\n",
       "      <td>2</td>\n",
       "      <td>0</td>\n",
       "      <td>0</td>\n",
       "      <td>...</td>\n",
       "      <td>3272.0</td>\n",
       "      <td>3455.0</td>\n",
       "      <td>3261.0</td>\n",
       "      <td>0.0</td>\n",
       "      <td>1000.0</td>\n",
       "      <td>1000.0</td>\n",
       "      <td>1000.0</td>\n",
       "      <td>0.0</td>\n",
       "      <td>2000.0</td>\n",
       "      <td>1</td>\n",
       "    </tr>\n",
       "    <tr>\n",
       "      <th>2</th>\n",
       "      <td>3</td>\n",
       "      <td>90000.0</td>\n",
       "      <td>2</td>\n",
       "      <td>2</td>\n",
       "      <td>2</td>\n",
       "      <td>34</td>\n",
       "      <td>0</td>\n",
       "      <td>0</td>\n",
       "      <td>0</td>\n",
       "      <td>0</td>\n",
       "      <td>...</td>\n",
       "      <td>14331.0</td>\n",
       "      <td>14948.0</td>\n",
       "      <td>15549.0</td>\n",
       "      <td>1518.0</td>\n",
       "      <td>1500.0</td>\n",
       "      <td>1000.0</td>\n",
       "      <td>1000.0</td>\n",
       "      <td>1000.0</td>\n",
       "      <td>5000.0</td>\n",
       "      <td>0</td>\n",
       "    </tr>\n",
       "    <tr>\n",
       "      <th>3</th>\n",
       "      <td>4</td>\n",
       "      <td>50000.0</td>\n",
       "      <td>2</td>\n",
       "      <td>2</td>\n",
       "      <td>1</td>\n",
       "      <td>37</td>\n",
       "      <td>0</td>\n",
       "      <td>0</td>\n",
       "      <td>0</td>\n",
       "      <td>0</td>\n",
       "      <td>...</td>\n",
       "      <td>28314.0</td>\n",
       "      <td>28959.0</td>\n",
       "      <td>29547.0</td>\n",
       "      <td>2000.0</td>\n",
       "      <td>2019.0</td>\n",
       "      <td>1200.0</td>\n",
       "      <td>1100.0</td>\n",
       "      <td>1069.0</td>\n",
       "      <td>1000.0</td>\n",
       "      <td>0</td>\n",
       "    </tr>\n",
       "    <tr>\n",
       "      <th>4</th>\n",
       "      <td>5</td>\n",
       "      <td>50000.0</td>\n",
       "      <td>1</td>\n",
       "      <td>2</td>\n",
       "      <td>1</td>\n",
       "      <td>57</td>\n",
       "      <td>-1</td>\n",
       "      <td>0</td>\n",
       "      <td>-1</td>\n",
       "      <td>0</td>\n",
       "      <td>...</td>\n",
       "      <td>20940.0</td>\n",
       "      <td>19146.0</td>\n",
       "      <td>19131.0</td>\n",
       "      <td>2000.0</td>\n",
       "      <td>36681.0</td>\n",
       "      <td>10000.0</td>\n",
       "      <td>9000.0</td>\n",
       "      <td>689.0</td>\n",
       "      <td>679.0</td>\n",
       "      <td>0</td>\n",
       "    </tr>\n",
       "  </tbody>\n",
       "</table>\n",
       "<p>5 rows × 25 columns</p>\n",
       "</div>"
      ],
      "text/plain": [
       "   ID  LIMIT_BAL  SEX  EDUCATION  MARRIAGE  AGE  PAY_0  PAY_2  PAY_3  PAY_4  \\\n",
       "0   1    20000.0    2          2         1   24      2      2     -1     -1   \n",
       "1   2   120000.0    2          2         2   26     -1      2      0      0   \n",
       "2   3    90000.0    2          2         2   34      0      0      0      0   \n",
       "3   4    50000.0    2          2         1   37      0      0      0      0   \n",
       "4   5    50000.0    1          2         1   57     -1      0     -1      0   \n",
       "\n",
       "   ...  BILL_AMT4  BILL_AMT5  BILL_AMT6  PAY_AMT1  PAY_AMT2  PAY_AMT3  \\\n",
       "0  ...        0.0        0.0        0.0       0.0     689.0       0.0   \n",
       "1  ...     3272.0     3455.0     3261.0       0.0    1000.0    1000.0   \n",
       "2  ...    14331.0    14948.0    15549.0    1518.0    1500.0    1000.0   \n",
       "3  ...    28314.0    28959.0    29547.0    2000.0    2019.0    1200.0   \n",
       "4  ...    20940.0    19146.0    19131.0    2000.0   36681.0   10000.0   \n",
       "\n",
       "   PAY_AMT4  PAY_AMT5  PAY_AMT6  default.payment.next.month  \n",
       "0       0.0       0.0       0.0                           1  \n",
       "1    1000.0       0.0    2000.0                           1  \n",
       "2    1000.0    1000.0    5000.0                           0  \n",
       "3    1100.0    1069.0    1000.0                           0  \n",
       "4    9000.0     689.0     679.0                           0  \n",
       "\n",
       "[5 rows x 25 columns]"
      ]
     },
     "execution_count": 9,
     "metadata": {},
     "output_type": "execute_result"
    }
   ],
   "source": [
    "df = pd.read_csv('UCI_Credit_Card.csv')\n",
    "df.head(5)"
   ]
  },
  {
   "cell_type": "markdown",
   "metadata": {},
   "source": [
    "Default payment next month is our target value, with 1 = yes, and 0 = no. Also, the BAL is in New Taiwanese currency, and Sex: 1 = Male, 2 = Female."
   ]
  },
  {
   "cell_type": "code",
   "execution_count": 10,
   "metadata": {},
   "outputs": [
    {
     "name": "stdout",
     "output_type": "stream",
     "text": [
      "<class 'pandas.core.frame.DataFrame'>\n",
      "RangeIndex: 30000 entries, 0 to 29999\n",
      "Data columns (total 25 columns):\n",
      " #   Column                      Non-Null Count  Dtype  \n",
      "---  ------                      --------------  -----  \n",
      " 0   ID                          30000 non-null  int64  \n",
      " 1   LIMIT_BAL                   30000 non-null  float64\n",
      " 2   SEX                         30000 non-null  int64  \n",
      " 3   EDUCATION                   30000 non-null  int64  \n",
      " 4   MARRIAGE                    30000 non-null  int64  \n",
      " 5   AGE                         30000 non-null  int64  \n",
      " 6   PAY_0                       30000 non-null  int64  \n",
      " 7   PAY_2                       30000 non-null  int64  \n",
      " 8   PAY_3                       30000 non-null  int64  \n",
      " 9   PAY_4                       30000 non-null  int64  \n",
      " 10  PAY_5                       30000 non-null  int64  \n",
      " 11  PAY_6                       30000 non-null  int64  \n",
      " 12  BILL_AMT1                   30000 non-null  float64\n",
      " 13  BILL_AMT2                   30000 non-null  float64\n",
      " 14  BILL_AMT3                   30000 non-null  float64\n",
      " 15  BILL_AMT4                   30000 non-null  float64\n",
      " 16  BILL_AMT5                   30000 non-null  float64\n",
      " 17  BILL_AMT6                   30000 non-null  float64\n",
      " 18  PAY_AMT1                    30000 non-null  float64\n",
      " 19  PAY_AMT2                    30000 non-null  float64\n",
      " 20  PAY_AMT3                    30000 non-null  float64\n",
      " 21  PAY_AMT4                    30000 non-null  float64\n",
      " 22  PAY_AMT5                    30000 non-null  float64\n",
      " 23  PAY_AMT6                    30000 non-null  float64\n",
      " 24  default.payment.next.month  30000 non-null  int64  \n",
      "dtypes: float64(13), int64(12)\n",
      "memory usage: 5.7 MB\n"
     ]
    }
   ],
   "source": [
    "df.info()"
   ]
  },
  {
   "cell_type": "code",
   "execution_count": 11,
   "metadata": {},
   "outputs": [
    {
     "data": {
      "text/plain": [
       "ID                            0\n",
       "LIMIT_BAL                     0\n",
       "SEX                           0\n",
       "EDUCATION                     0\n",
       "MARRIAGE                      0\n",
       "AGE                           0\n",
       "PAY_0                         0\n",
       "PAY_2                         0\n",
       "PAY_3                         0\n",
       "PAY_4                         0\n",
       "PAY_5                         0\n",
       "PAY_6                         0\n",
       "BILL_AMT1                     0\n",
       "BILL_AMT2                     0\n",
       "BILL_AMT3                     0\n",
       "BILL_AMT4                     0\n",
       "BILL_AMT5                     0\n",
       "BILL_AMT6                     0\n",
       "PAY_AMT1                      0\n",
       "PAY_AMT2                      0\n",
       "PAY_AMT3                      0\n",
       "PAY_AMT4                      0\n",
       "PAY_AMT5                      0\n",
       "PAY_AMT6                      0\n",
       "default.payment.next.month    0\n",
       "dtype: int64"
      ]
     },
     "execution_count": 11,
     "metadata": {},
     "output_type": "execute_result"
    }
   ],
   "source": [
    "df.isnull().sum()"
   ]
  },
  {
   "cell_type": "code",
   "execution_count": 12,
   "metadata": {},
   "outputs": [
    {
     "name": "stdout",
     "output_type": "stream",
     "text": [
      "30000\n"
     ]
    },
    {
     "data": {
      "image/png": "[encoded data removed]",
      "text/plain": [
       "<Figure size 640x480 with 1 Axes>"
      ]
     },
     "metadata": {},
     "output_type": "display_data"
    }
   ],
   "source": [
    "sns.boxplot(x = df['LIMIT_BAL'])\n",
    "print(len(df.index))"
   ]
  },
  {
   "cell_type": "markdown",
   "metadata": {},
   "source": [
    "Outlier, so we will drop. "
   ]
  },
  {
   "cell_type": "code",
   "execution_count": 13,
   "metadata": {},
   "outputs": [
    {
     "data": {
      "text/plain": [
       "count      30000.000000\n",
       "mean      167484.322667\n",
       "std       129747.661567\n",
       "min        10000.000000\n",
       "25%        50000.000000\n",
       "50%       140000.000000\n",
       "75%       240000.000000\n",
       "max      1000000.000000\n",
       "Name: LIMIT_BAL, dtype: float64"
      ]
     },
     "execution_count": 13,
     "metadata": {},
     "output_type": "execute_result"
    }
   ],
   "source": [
    "df['LIMIT_BAL'].describe()"
   ]
  },
  {
   "cell_type": "code",
   "execution_count": 14,
   "metadata": {},
   "outputs": [
    {
     "name": "stdout",
     "output_type": "stream",
     "text": [
      "30000\n"
     ]
    },
    {
     "data": {
      "image/png": "[encoded data removed]",
      "text/plain": [
       "<Figure size 640x480 with 1 Axes>"
      ]
     },
     "metadata": {},
     "output_type": "display_data"
    }
   ],
   "source": [
    "data = df[df['LIMIT_BAL'] < 900000]\n",
    "sns.boxplot(x = df['LIMIT_BAL'])\n",
    "print(len(df.index))"
   ]
  },
  {
   "cell_type": "code",
   "execution_count": 15,
   "metadata": {},
   "outputs": [
    {
     "data": {
      "text/plain": [
       "<Axes: >"
      ]
     },
     "execution_count": 15,
     "metadata": {},
     "output_type": "execute_result"
    },
    {
     "data": {
      "image/png": "[encoded data removed]",
      "text/plain": [
       "<Figure size 1200x1000 with 2 Axes>"
      ]
     },
     "metadata": {},
     "output_type": "display_data"
    }
   ],
   "source": [
    "corr = data.corr()\n",
    "plt.figure(figsize= (12,10))\n",
    "sns.heatmap(corr)"
   ]
  },
  {
   "cell_type": "markdown",
   "metadata": {},
   "source": [
    "No real strong correlations with our target, as well as no strong correlations between our other explanatory variables."
   ]
  },
  {
   "cell_type": "code",
   "execution_count": 16,
   "metadata": {},
   "outputs": [
    {
     "data": {
      "text/plain": [
       "dict_items([('EDUCATION', 'EDU')])"
      ]
     },
     "execution_count": 16,
     "metadata": {},
     "output_type": "execute_result"
    }
   ],
   "source": [
    "{'EDUCATION': 'EDU'}.items()"
   ]
  },
  {
   "cell_type": "code",
   "execution_count": 17,
   "metadata": {},
   "outputs": [],
   "source": [
    "def onehot_encode (df, column_dict):\n",
    "    df = df.copy()\n",
    "\n",
    "    for column, prefix in column_dict.items():\n",
    "        dummies = pd.get_dummies(df[column], dtype=int, prefix = prefix)\n",
    "        df = pd.concat([df,dummies], axis = 1)\n",
    "        df = df.drop(column, axis=1)\n",
    "\n",
    "    return df"
   ]
  },
  {
   "cell_type": "code",
   "execution_count": 18,
   "metadata": {},
   "outputs": [],
   "source": [
    "def preprocess_inputs (df):\n",
    "    df = df.copy()\n",
    "    df = df.drop('ID' , axis = 1)\n",
    "    \n",
    "    df = onehot_encode(df,\n",
    "                       {\n",
    "                           'EDUCATION' : 'EDU' , \n",
    "                           'MARRIAGE' : 'MAR'\n",
    "                       }\n",
    "                       )\n",
    "\n",
    "    Y  = df['default.payment.next.month'].copy()\n",
    "    X = df.drop('default.payment.next.month' , axis = 1).copy()\n",
    "    #Scale X\n",
    "    scaler = StandardScaler()\n",
    "    X = pd.DataFrame(scaler.fit_transform(X), columns= X.columns)\n",
    "\n",
    "    return X, Y \n",
    "\n",
    "X, Y = preprocess_inputs(data)"
   ]
  },
  {
   "cell_type": "code",
   "execution_count": 19,
   "metadata": {},
   "outputs": [
    {
     "data": {
      "text/html": [
       "<div>\n",
       "<style scoped>\n",
       "    .dataframe tbody tr th:only-of-type {\n",
       "        vertical-align: middle;\n",
       "    }\n",
       "\n",
       "    .dataframe tbody tr th {\n",
       "        vertical-align: top;\n",
       "    }\n",
       "\n",
       "    .dataframe thead th {\n",
       "        text-align: right;\n",
       "    }\n",
       "</style>\n",
       "<table border=\"1\" class=\"dataframe\">\n",
       "  <thead>\n",
       "    <tr style=\"text-align: right;\">\n",
       "      <th></th>\n",
       "      <th>LIMIT_BAL</th>\n",
       "      <th>SEX</th>\n",
       "      <th>AGE</th>\n",
       "      <th>PAY_0</th>\n",
       "      <th>PAY_2</th>\n",
       "      <th>PAY_3</th>\n",
       "      <th>PAY_4</th>\n",
       "      <th>PAY_5</th>\n",
       "      <th>PAY_6</th>\n",
       "      <th>BILL_AMT1</th>\n",
       "      <th>...</th>\n",
       "      <th>EDU_1</th>\n",
       "      <th>EDU_2</th>\n",
       "      <th>EDU_3</th>\n",
       "      <th>EDU_4</th>\n",
       "      <th>EDU_5</th>\n",
       "      <th>EDU_6</th>\n",
       "      <th>MAR_0</th>\n",
       "      <th>MAR_1</th>\n",
       "      <th>MAR_2</th>\n",
       "      <th>MAR_3</th>\n",
       "    </tr>\n",
       "  </thead>\n",
       "  <tbody>\n",
       "    <tr>\n",
       "      <th>0</th>\n",
       "      <td>-1.137268</td>\n",
       "      <td>0.810183</td>\n",
       "      <td>-1.245990</td>\n",
       "      <td>1.794534</td>\n",
       "      <td>1.782323</td>\n",
       "      <td>-0.696647</td>\n",
       "      <td>-0.666615</td>\n",
       "      <td>-1.530014</td>\n",
       "      <td>-1.486009</td>\n",
       "      <td>-0.643730</td>\n",
       "      <td>...</td>\n",
       "      <td>-0.73834</td>\n",
       "      <td>1.066866</td>\n",
       "      <td>-0.442761</td>\n",
       "      <td>-0.064164</td>\n",
       "      <td>-0.097065</td>\n",
       "      <td>-0.041267</td>\n",
       "      <td>-0.042465</td>\n",
       "      <td>1.093820</td>\n",
       "      <td>-1.066509</td>\n",
       "      <td>-0.104327</td>\n",
       "    </tr>\n",
       "    <tr>\n",
       "      <th>1</th>\n",
       "      <td>-0.366012</td>\n",
       "      <td>0.810183</td>\n",
       "      <td>-1.029015</td>\n",
       "      <td>-0.874976</td>\n",
       "      <td>1.782323</td>\n",
       "      <td>0.138867</td>\n",
       "      <td>0.188722</td>\n",
       "      <td>0.234921</td>\n",
       "      <td>1.992293</td>\n",
       "      <td>-0.660490</td>\n",
       "      <td>...</td>\n",
       "      <td>-0.73834</td>\n",
       "      <td>1.066866</td>\n",
       "      <td>-0.442761</td>\n",
       "      <td>-0.064164</td>\n",
       "      <td>-0.097065</td>\n",
       "      <td>-0.041267</td>\n",
       "      <td>-0.042465</td>\n",
       "      <td>-0.914227</td>\n",
       "      <td>0.937638</td>\n",
       "      <td>-0.104327</td>\n",
       "    </tr>\n",
       "    <tr>\n",
       "      <th>2</th>\n",
       "      <td>-0.597389</td>\n",
       "      <td>0.810183</td>\n",
       "      <td>-0.161116</td>\n",
       "      <td>0.014861</td>\n",
       "      <td>0.111738</td>\n",
       "      <td>0.138867</td>\n",
       "      <td>0.188722</td>\n",
       "      <td>0.234921</td>\n",
       "      <td>0.253142</td>\n",
       "      <td>-0.298909</td>\n",
       "      <td>...</td>\n",
       "      <td>-0.73834</td>\n",
       "      <td>1.066866</td>\n",
       "      <td>-0.442761</td>\n",
       "      <td>-0.064164</td>\n",
       "      <td>-0.097065</td>\n",
       "      <td>-0.041267</td>\n",
       "      <td>-0.042465</td>\n",
       "      <td>-0.914227</td>\n",
       "      <td>0.937638</td>\n",
       "      <td>-0.104327</td>\n",
       "    </tr>\n",
       "    <tr>\n",
       "      <th>3</th>\n",
       "      <td>-0.905891</td>\n",
       "      <td>0.810183</td>\n",
       "      <td>0.164346</td>\n",
       "      <td>0.014861</td>\n",
       "      <td>0.111738</td>\n",
       "      <td>0.138867</td>\n",
       "      <td>0.188722</td>\n",
       "      <td>0.234921</td>\n",
       "      <td>0.253142</td>\n",
       "      <td>-0.057224</td>\n",
       "      <td>...</td>\n",
       "      <td>-0.73834</td>\n",
       "      <td>1.066866</td>\n",
       "      <td>-0.442761</td>\n",
       "      <td>-0.064164</td>\n",
       "      <td>-0.097065</td>\n",
       "      <td>-0.041267</td>\n",
       "      <td>-0.042465</td>\n",
       "      <td>1.093820</td>\n",
       "      <td>-1.066509</td>\n",
       "      <td>-0.104327</td>\n",
       "    </tr>\n",
       "    <tr>\n",
       "      <th>4</th>\n",
       "      <td>-0.905891</td>\n",
       "      <td>-1.234289</td>\n",
       "      <td>2.334093</td>\n",
       "      <td>-0.874976</td>\n",
       "      <td>0.111738</td>\n",
       "      <td>-0.696647</td>\n",
       "      <td>0.188722</td>\n",
       "      <td>0.234921</td>\n",
       "      <td>0.253142</td>\n",
       "      <td>-0.579683</td>\n",
       "      <td>...</td>\n",
       "      <td>-0.73834</td>\n",
       "      <td>1.066866</td>\n",
       "      <td>-0.442761</td>\n",
       "      <td>-0.064164</td>\n",
       "      <td>-0.097065</td>\n",
       "      <td>-0.041267</td>\n",
       "      <td>-0.042465</td>\n",
       "      <td>1.093820</td>\n",
       "      <td>-1.066509</td>\n",
       "      <td>-0.104327</td>\n",
       "    </tr>\n",
       "    <tr>\n",
       "      <th>...</th>\n",
       "      <td>...</td>\n",
       "      <td>...</td>\n",
       "      <td>...</td>\n",
       "      <td>...</td>\n",
       "      <td>...</td>\n",
       "      <td>...</td>\n",
       "      <td>...</td>\n",
       "      <td>...</td>\n",
       "      <td>...</td>\n",
       "      <td>...</td>\n",
       "      <td>...</td>\n",
       "      <td>...</td>\n",
       "      <td>...</td>\n",
       "      <td>...</td>\n",
       "      <td>...</td>\n",
       "      <td>...</td>\n",
       "      <td>...</td>\n",
       "      <td>...</td>\n",
       "      <td>...</td>\n",
       "      <td>...</td>\n",
       "      <td>...</td>\n",
       "    </tr>\n",
       "    <tr>\n",
       "      <th>29994</th>\n",
       "      <td>0.405244</td>\n",
       "      <td>-1.234289</td>\n",
       "      <td>0.381320</td>\n",
       "      <td>0.014861</td>\n",
       "      <td>0.111738</td>\n",
       "      <td>0.138867</td>\n",
       "      <td>0.188722</td>\n",
       "      <td>0.234921</td>\n",
       "      <td>0.253142</td>\n",
       "      <td>1.875576</td>\n",
       "      <td>...</td>\n",
       "      <td>-0.73834</td>\n",
       "      <td>-0.937325</td>\n",
       "      <td>2.258557</td>\n",
       "      <td>-0.064164</td>\n",
       "      <td>-0.097065</td>\n",
       "      <td>-0.041267</td>\n",
       "      <td>-0.042465</td>\n",
       "      <td>1.093820</td>\n",
       "      <td>-1.066509</td>\n",
       "      <td>-0.104327</td>\n",
       "    </tr>\n",
       "    <tr>\n",
       "      <th>29995</th>\n",
       "      <td>-0.134635</td>\n",
       "      <td>-1.234289</td>\n",
       "      <td>0.815270</td>\n",
       "      <td>-0.874976</td>\n",
       "      <td>-0.723554</td>\n",
       "      <td>-0.696647</td>\n",
       "      <td>-0.666615</td>\n",
       "      <td>0.234921</td>\n",
       "      <td>0.253142</td>\n",
       "      <td>-0.674092</td>\n",
       "      <td>...</td>\n",
       "      <td>-0.73834</td>\n",
       "      <td>-0.937325</td>\n",
       "      <td>2.258557</td>\n",
       "      <td>-0.064164</td>\n",
       "      <td>-0.097065</td>\n",
       "      <td>-0.041267</td>\n",
       "      <td>-0.042465</td>\n",
       "      <td>-0.914227</td>\n",
       "      <td>0.937638</td>\n",
       "      <td>-0.104327</td>\n",
       "    </tr>\n",
       "    <tr>\n",
       "      <th>29996</th>\n",
       "      <td>-1.060142</td>\n",
       "      <td>-1.234289</td>\n",
       "      <td>0.164346</td>\n",
       "      <td>3.574208</td>\n",
       "      <td>2.617615</td>\n",
       "      <td>1.809896</td>\n",
       "      <td>-0.666615</td>\n",
       "      <td>0.234921</td>\n",
       "      <td>0.253142</td>\n",
       "      <td>-0.648468</td>\n",
       "      <td>...</td>\n",
       "      <td>-0.73834</td>\n",
       "      <td>1.066866</td>\n",
       "      <td>-0.442761</td>\n",
       "      <td>-0.064164</td>\n",
       "      <td>-0.097065</td>\n",
       "      <td>-0.041267</td>\n",
       "      <td>-0.042465</td>\n",
       "      <td>-0.914227</td>\n",
       "      <td>0.937638</td>\n",
       "      <td>-0.104327</td>\n",
       "    </tr>\n",
       "    <tr>\n",
       "      <th>29997</th>\n",
       "      <td>-0.674514</td>\n",
       "      <td>-1.234289</td>\n",
       "      <td>0.598295</td>\n",
       "      <td>0.904698</td>\n",
       "      <td>-0.723554</td>\n",
       "      <td>0.138867</td>\n",
       "      <td>0.188722</td>\n",
       "      <td>0.234921</td>\n",
       "      <td>-0.616434</td>\n",
       "      <td>-0.719403</td>\n",
       "      <td>...</td>\n",
       "      <td>-0.73834</td>\n",
       "      <td>-0.937325</td>\n",
       "      <td>2.258557</td>\n",
       "      <td>-0.064164</td>\n",
       "      <td>-0.097065</td>\n",
       "      <td>-0.041267</td>\n",
       "      <td>-0.042465</td>\n",
       "      <td>1.093820</td>\n",
       "      <td>-1.066509</td>\n",
       "      <td>-0.104327</td>\n",
       "    </tr>\n",
       "    <tr>\n",
       "      <th>29998</th>\n",
       "      <td>-0.905891</td>\n",
       "      <td>-1.234289</td>\n",
       "      <td>1.140732</td>\n",
       "      <td>0.014861</td>\n",
       "      <td>0.111738</td>\n",
       "      <td>0.138867</td>\n",
       "      <td>0.188722</td>\n",
       "      <td>0.234921</td>\n",
       "      <td>0.253142</td>\n",
       "      <td>-0.044439</td>\n",
       "      <td>...</td>\n",
       "      <td>-0.73834</td>\n",
       "      <td>1.066866</td>\n",
       "      <td>-0.442761</td>\n",
       "      <td>-0.064164</td>\n",
       "      <td>-0.097065</td>\n",
       "      <td>-0.041267</td>\n",
       "      <td>-0.042465</td>\n",
       "      <td>1.093820</td>\n",
       "      <td>-1.066509</td>\n",
       "      <td>-0.104327</td>\n",
       "    </tr>\n",
       "  </tbody>\n",
       "</table>\n",
       "<p>29999 rows × 32 columns</p>\n",
       "</div>"
      ],
      "text/plain": [
       "       LIMIT_BAL       SEX       AGE     PAY_0     PAY_2     PAY_3     PAY_4  \\\n",
       "0      -1.137268  0.810183 -1.245990  1.794534  1.782323 -0.696647 -0.666615   \n",
       "1      -0.366012  0.810183 -1.029015 -0.874976  1.782323  0.138867  0.188722   \n",
       "2      -0.597389  0.810183 -0.161116  0.014861  0.111738  0.138867  0.188722   \n",
       "3      -0.905891  0.810183  0.164346  0.014861  0.111738  0.138867  0.188722   \n",
       "4      -0.905891 -1.234289  2.334093 -0.874976  0.111738 -0.696647  0.188722   \n",
       "...          ...       ...       ...       ...       ...       ...       ...   \n",
       "29994   0.405244 -1.234289  0.381320  0.014861  0.111738  0.138867  0.188722   \n",
       "29995  -0.134635 -1.234289  0.815270 -0.874976 -0.723554 -0.696647 -0.666615   \n",
       "29996  -1.060142 -1.234289  0.164346  3.574208  2.617615  1.809896 -0.666615   \n",
       "29997  -0.674514 -1.234289  0.598295  0.904698 -0.723554  0.138867  0.188722   \n",
       "29998  -0.905891 -1.234289  1.140732  0.014861  0.111738  0.138867  0.188722   \n",
       "\n",
       "          PAY_5     PAY_6  BILL_AMT1  ...    EDU_1     EDU_2     EDU_3  \\\n",
       "0     -1.530014 -1.486009  -0.643730  ... -0.73834  1.066866 -0.442761   \n",
       "1      0.234921  1.992293  -0.660490  ... -0.73834  1.066866 -0.442761   \n",
       "2      0.234921  0.253142  -0.298909  ... -0.73834  1.066866 -0.442761   \n",
       "3      0.234921  0.253142  -0.057224  ... -0.73834  1.066866 -0.442761   \n",
       "4      0.234921  0.253142  -0.579683  ... -0.73834  1.066866 -0.442761   \n",
       "...         ...       ...        ...  ...      ...       ...       ...   \n",
       "29994  0.234921  0.253142   1.875576  ... -0.73834 -0.937325  2.258557   \n",
       "29995  0.234921  0.253142  -0.674092  ... -0.73834 -0.937325  2.258557   \n",
       "29996  0.234921  0.253142  -0.648468  ... -0.73834  1.066866 -0.442761   \n",
       "29997  0.234921 -0.616434  -0.719403  ... -0.73834 -0.937325  2.258557   \n",
       "29998  0.234921  0.253142  -0.044439  ... -0.73834  1.066866 -0.442761   \n",
       "\n",
       "          EDU_4     EDU_5     EDU_6     MAR_0     MAR_1     MAR_2     MAR_3  \n",
       "0     -0.064164 -0.097065 -0.041267 -0.042465  1.093820 -1.066509 -0.104327  \n",
       "1     -0.064164 -0.097065 -0.041267 -0.042465 -0.914227  0.937638 -0.104327  \n",
       "2     -0.064164 -0.097065 -0.041267 -0.042465 -0.914227  0.937638 -0.104327  \n",
       "3     -0.064164 -0.097065 -0.041267 -0.042465  1.093820 -1.066509 -0.104327  \n",
       "4     -0.064164 -0.097065 -0.041267 -0.042465  1.093820 -1.066509 -0.104327  \n",
       "...         ...       ...       ...       ...       ...       ...       ...  \n",
       "29994 -0.064164 -0.097065 -0.041267 -0.042465  1.093820 -1.066509 -0.104327  \n",
       "29995 -0.064164 -0.097065 -0.041267 -0.042465 -0.914227  0.937638 -0.104327  \n",
       "29996 -0.064164 -0.097065 -0.041267 -0.042465 -0.914227  0.937638 -0.104327  \n",
       "29997 -0.064164 -0.097065 -0.041267 -0.042465  1.093820 -1.066509 -0.104327  \n",
       "29998 -0.064164 -0.097065 -0.041267 -0.042465  1.093820 -1.066509 -0.104327  \n",
       "\n",
       "[29999 rows x 32 columns]"
      ]
     },
     "execution_count": 19,
     "metadata": {},
     "output_type": "execute_result"
    }
   ],
   "source": [
    "X"
   ]
  },
  {
   "cell_type": "code",
   "execution_count": 20,
   "metadata": {},
   "outputs": [
    {
     "data": {
      "text/plain": [
       "KFold(n_splits=5, random_state=123, shuffle=True)"
      ]
     },
     "execution_count": 20,
     "metadata": {},
     "output_type": "execute_result"
    }
   ],
   "source": [
    "from sklearn.model_selection import KFold\n",
    "cross_val = KFold(n_splits= 5 , shuffle= True, random_state= 123)\n",
    "cross_val"
   ]
  },
  {
   "cell_type": "code",
   "execution_count": 21,
   "metadata": {},
   "outputs": [
    {
     "data": {
      "image/png": "[encoded data removed]",
      "text/plain": [
       "<Figure size 640x480 with 1 Axes>"
      ]
     },
     "metadata": {},
     "output_type": "display_data"
    }
   ],
   "source": [
    "from sklearn.linear_model import Ridge\n",
    "from sklearn.model_selection import cross_val_score\n",
    "\n",
    "r_results = []\n",
    "\n",
    "for lamb in np.arange(0, 450, 1):\n",
    "    ridge = Ridge(alpha=lamb, max_iter=1000)\n",
    "\n",
    "    # Perform cross-validation\n",
    "    rk = cross_val_score(ridge, X, Y, cv=cross_val, scoring=\"roc_auc\")\n",
    "    rr2 = rk.mean()\n",
    "    rstd = rk.std()\n",
    "    rd = {\"Lambda\": lamb, \"Test AUC\": rr2, \"Std\": rstd}\n",
    "    r_results.append(rd)\n",
    "\n",
    "ridge_results = pd.DataFrame(r_results)\n",
    "plt.plot(ridge_results['Lambda'], ridge_results['Test AUC'])\n",
    "plt.xlabel('Lambda')\n",
    "plt.ylabel('Test AUC')\n",
    "plt.title('Test AUC vs. Lambda')\n",
    "plt.grid(True)\n",
    "plt.show()\n"
   ]
  },
  {
   "cell_type": "code",
   "execution_count": 22,
   "metadata": {},
   "outputs": [
    {
     "data": {
      "text/html": [
       "<div>\n",
       "<style scoped>\n",
       "    .dataframe tbody tr th:only-of-type {\n",
       "        vertical-align: middle;\n",
       "    }\n",
       "\n",
       "    .dataframe tbody tr th {\n",
       "        vertical-align: top;\n",
       "    }\n",
       "\n",
       "    .dataframe thead th {\n",
       "        text-align: right;\n",
       "    }\n",
       "</style>\n",
       "<table border=\"1\" class=\"dataframe\">\n",
       "  <thead>\n",
       "    <tr style=\"text-align: right;\">\n",
       "      <th></th>\n",
       "      <th>Lambda</th>\n",
       "      <th>Test AUC</th>\n",
       "      <th>Std</th>\n",
       "    </tr>\n",
       "  </thead>\n",
       "  <tbody>\n",
       "    <tr>\n",
       "      <th>447</th>\n",
       "      <td>447</td>\n",
       "      <td>0.718505</td>\n",
       "      <td>0.009403</td>\n",
       "    </tr>\n",
       "  </tbody>\n",
       "</table>\n",
       "</div>"
      ],
      "text/plain": [
       "     Lambda  Test AUC       Std\n",
       "447     447  0.718505  0.009403"
      ]
     },
     "execution_count": 22,
     "metadata": {},
     "output_type": "execute_result"
    }
   ],
   "source": [
    "ridge_results.nlargest(1,\"Test AUC\")"
   ]
  },
  {
   "cell_type": "code",
   "execution_count": 24,
   "metadata": {},
   "outputs": [
    {
     "name": "stderr",
     "output_type": "stream",
     "text": [
      "C:\\Users\\adenm\\AppData\\Local\\Packages\\PythonSoftwareFoundation.Python.3.11_qbz5n2kfra8p0\\LocalCache\\local-packages\\Python311\\site-packages\\sklearn\\base.py:1152: UserWarning: With alpha=0, this algorithm does not converge well. You are advised to use the LinearRegression estimator\n",
      "  return fit_method(estimator, *args, **kwargs)\n",
      "C:\\Users\\adenm\\AppData\\Local\\Packages\\PythonSoftwareFoundation.Python.3.11_qbz5n2kfra8p0\\LocalCache\\local-packages\\Python311\\site-packages\\sklearn\\linear_model\\_coordinate_descent.py:628: UserWarning: Coordinate descent with no regularization may lead to unexpected results and is discouraged.\n",
      "  model = cd_fast.enet_coordinate_descent(\n",
      "C:\\Users\\adenm\\AppData\\Local\\Packages\\PythonSoftwareFoundation.Python.3.11_qbz5n2kfra8p0\\LocalCache\\local-packages\\Python311\\site-packages\\sklearn\\linear_model\\_coordinate_descent.py:628: ConvergenceWarning: Objective did not converge. You might want to increase the number of iterations, check the scale of the features or consider increasing regularisation. Duality gap: 1.819e+03, tolerance: 4.140e-01 Linear regression models with null weight for the l1 regularization term are more efficiently fitted using one of the solvers implemented in sklearn.linear_model.Ridge/RidgeCV instead.\n",
      "  model = cd_fast.enet_coordinate_descent(\n",
      "C:\\Users\\adenm\\AppData\\Local\\Packages\\PythonSoftwareFoundation.Python.3.11_qbz5n2kfra8p0\\LocalCache\\local-packages\\Python311\\site-packages\\sklearn\\base.py:1152: UserWarning: With alpha=0, this algorithm does not converge well. You are advised to use the LinearRegression estimator\n",
      "  return fit_method(estimator, *args, **kwargs)\n",
      "C:\\Users\\adenm\\AppData\\Local\\Packages\\PythonSoftwareFoundation.Python.3.11_qbz5n2kfra8p0\\LocalCache\\local-packages\\Python311\\site-packages\\sklearn\\linear_model\\_coordinate_descent.py:628: UserWarning: Coordinate descent with no regularization may lead to unexpected results and is discouraged.\n",
      "  model = cd_fast.enet_coordinate_descent(\n",
      "C:\\Users\\adenm\\AppData\\Local\\Packages\\PythonSoftwareFoundation.Python.3.11_qbz5n2kfra8p0\\LocalCache\\local-packages\\Python311\\site-packages\\sklearn\\linear_model\\_coordinate_descent.py:628: ConvergenceWarning: Objective did not converge. You might want to increase the number of iterations, check the scale of the features or consider increasing regularisation. Duality gap: 1.801e+03, tolerance: 4.133e-01 Linear regression models with null weight for the l1 regularization term are more efficiently fitted using one of the solvers implemented in sklearn.linear_model.Ridge/RidgeCV instead.\n",
      "  model = cd_fast.enet_coordinate_descent(\n",
      "C:\\Users\\adenm\\AppData\\Local\\Packages\\PythonSoftwareFoundation.Python.3.11_qbz5n2kfra8p0\\LocalCache\\local-packages\\Python311\\site-packages\\sklearn\\base.py:1152: UserWarning: With alpha=0, this algorithm does not converge well. You are advised to use the LinearRegression estimator\n",
      "  return fit_method(estimator, *args, **kwargs)\n",
      "C:\\Users\\adenm\\AppData\\Local\\Packages\\PythonSoftwareFoundation.Python.3.11_qbz5n2kfra8p0\\LocalCache\\local-packages\\Python311\\site-packages\\sklearn\\linear_model\\_coordinate_descent.py:628: UserWarning: Coordinate descent with no regularization may lead to unexpected results and is discouraged.\n",
      "  model = cd_fast.enet_coordinate_descent(\n",
      "C:\\Users\\adenm\\AppData\\Local\\Packages\\PythonSoftwareFoundation.Python.3.11_qbz5n2kfra8p0\\LocalCache\\local-packages\\Python311\\site-packages\\sklearn\\linear_model\\_coordinate_descent.py:628: ConvergenceWarning: Objective did not converge. You might want to increase the number of iterations, check the scale of the features or consider increasing regularisation. Duality gap: 1.806e+03, tolerance: 4.148e-01 Linear regression models with null weight for the l1 regularization term are more efficiently fitted using one of the solvers implemented in sklearn.linear_model.Ridge/RidgeCV instead.\n",
      "  model = cd_fast.enet_coordinate_descent(\n",
      "C:\\Users\\adenm\\AppData\\Local\\Packages\\PythonSoftwareFoundation.Python.3.11_qbz5n2kfra8p0\\LocalCache\\local-packages\\Python311\\site-packages\\sklearn\\base.py:1152: UserWarning: With alpha=0, this algorithm does not converge well. You are advised to use the LinearRegression estimator\n",
      "  return fit_method(estimator, *args, **kwargs)\n",
      "C:\\Users\\adenm\\AppData\\Local\\Packages\\PythonSoftwareFoundation.Python.3.11_qbz5n2kfra8p0\\LocalCache\\local-packages\\Python311\\site-packages\\sklearn\\linear_model\\_coordinate_descent.py:628: UserWarning: Coordinate descent with no regularization may lead to unexpected results and is discouraged.\n",
      "  model = cd_fast.enet_coordinate_descent(\n",
      "C:\\Users\\adenm\\AppData\\Local\\Packages\\PythonSoftwareFoundation.Python.3.11_qbz5n2kfra8p0\\LocalCache\\local-packages\\Python311\\site-packages\\sklearn\\linear_model\\_coordinate_descent.py:628: ConvergenceWarning: Objective did not converge. You might want to increase the number of iterations, check the scale of the features or consider increasing regularisation. Duality gap: 1.818e+03, tolerance: 4.154e-01 Linear regression models with null weight for the l1 regularization term are more efficiently fitted using one of the solvers implemented in sklearn.linear_model.Ridge/RidgeCV instead.\n",
      "  model = cd_fast.enet_coordinate_descent(\n",
      "C:\\Users\\adenm\\AppData\\Local\\Packages\\PythonSoftwareFoundation.Python.3.11_qbz5n2kfra8p0\\LocalCache\\local-packages\\Python311\\site-packages\\sklearn\\base.py:1152: UserWarning: With alpha=0, this algorithm does not converge well. You are advised to use the LinearRegression estimator\n",
      "  return fit_method(estimator, *args, **kwargs)\n",
      "C:\\Users\\adenm\\AppData\\Local\\Packages\\PythonSoftwareFoundation.Python.3.11_qbz5n2kfra8p0\\LocalCache\\local-packages\\Python311\\site-packages\\sklearn\\linear_model\\_coordinate_descent.py:628: UserWarning: Coordinate descent with no regularization may lead to unexpected results and is discouraged.\n",
      "  model = cd_fast.enet_coordinate_descent(\n",
      "C:\\Users\\adenm\\AppData\\Local\\Packages\\PythonSoftwareFoundation.Python.3.11_qbz5n2kfra8p0\\LocalCache\\local-packages\\Python311\\site-packages\\sklearn\\linear_model\\_coordinate_descent.py:628: ConvergenceWarning: Objective did not converge. You might want to increase the number of iterations, check the scale of the features or consider increasing regularisation. Duality gap: 1.797e+03, tolerance: 4.097e-01 Linear regression models with null weight for the l1 regularization term are more efficiently fitted using one of the solvers implemented in sklearn.linear_model.Ridge/RidgeCV instead.\n",
      "  model = cd_fast.enet_coordinate_descent(\n"
     ]
    },
    {
     "data": {
      "image/png": "[encoded data removed]",
      "text/plain": [
       "<Figure size 640x480 with 1 Axes>"
      ]
     },
     "metadata": {},
     "output_type": "display_data"
    }
   ],
   "source": [
    "from sklearn.linear_model import Lasso\n",
    "\n",
    "results = []\n",
    "for lamb in np.arange(0, 0.6, 0.01):\n",
    "    lasso = Lasso(alpha=lamb, max_iter=1000)\n",
    "    auc_scores = cross_val_score(lasso, X, Y, cv=cross_val, scoring=\"roc_auc\")\n",
    "    test_auc = auc_scores.mean()\n",
    "    std_dev = auc_scores.std()\n",
    "    results.append({\"Lambda\": lamb, \"Test AUC\": test_auc, \"std\": std_dev})\n",
    "\n",
    "results_df = pd.DataFrame(results)\n",
    "\n",
    "plt.plot(results_df['Lambda'], results_df['Test AUC'])\n",
    "plt.xlabel('Lambda')\n",
    "plt.ylabel('Test AUC')\n",
    "plt.title('Test AUC vs. Lambda')\n",
    "plt.grid(True)\n",
    "plt.show()"
   ]
  },
  {
   "cell_type": "code",
   "execution_count": 25,
   "metadata": {},
   "outputs": [
    {
     "data": {
      "text/html": [
       "<div>\n",
       "<style scoped>\n",
       "    .dataframe tbody tr th:only-of-type {\n",
       "        vertical-align: middle;\n",
       "    }\n",
       "\n",
       "    .dataframe tbody tr th {\n",
       "        vertical-align: top;\n",
       "    }\n",
       "\n",
       "    .dataframe thead th {\n",
       "        text-align: right;\n",
       "    }\n",
       "</style>\n",
       "<table border=\"1\" class=\"dataframe\">\n",
       "  <thead>\n",
       "    <tr style=\"text-align: right;\">\n",
       "      <th></th>\n",
       "      <th>Lambda</th>\n",
       "      <th>Test AUC</th>\n",
       "      <th>std</th>\n",
       "    </tr>\n",
       "  </thead>\n",
       "  <tbody>\n",
       "    <tr>\n",
       "      <th>0</th>\n",
       "      <td>0.0</td>\n",
       "      <td>0.718391</td>\n",
       "      <td>0.009563</td>\n",
       "    </tr>\n",
       "  </tbody>\n",
       "</table>\n",
       "</div>"
      ],
      "text/plain": [
       "   Lambda  Test AUC       std\n",
       "0     0.0  0.718391  0.009563"
      ]
     },
     "execution_count": 25,
     "metadata": {},
     "output_type": "execute_result"
    }
   ],
   "source": [
    "results_df.nlargest(1,\"Test AUC\")"
   ]
  },
  {
   "cell_type": "code",
   "execution_count": 27,
   "metadata": {},
   "outputs": [],
   "source": [
    "from sklearn.model_selection import train_test_split\n",
    "X_train, X_test, Y_train, Y_test= train_test_split(X, Y, random_state=123)"
   ]
  },
  {
   "cell_type": "code",
   "execution_count": 28,
   "metadata": {},
   "outputs": [
    {
     "data": {
      "text/html": [
       "<style>#sk-container-id-1 {color: black;}#sk-container-id-1 pre{padding: 0;}#sk-container-id-1 div.sk-toggleable {background-color: white;}#sk-container-id-1 label.sk-toggleable__label {cursor: pointer;display: block;width: 100%;margin-bottom: 0;padding: 0.3em;box-sizing: border-box;text-align: center;}#sk-container-id-1 label.sk-toggleable__label-arrow:before {content: \"▸\";float: left;margin-right: 0.25em;color: #696969;}#sk-container-id-1 label.sk-toggleable__label-arrow:hover:before {color: black;}#sk-container-id-1 div.sk-estimator:hover label.sk-toggleable__label-arrow:before {color: black;}#sk-container-id-1 div.sk-toggleable__content {max-height: 0;max-width: 0;overflow: hidden;text-align: left;background-color: #f0f8ff;}#sk-container-id-1 div.sk-toggleable__content pre {margin: 0.2em;color: black;border-radius: 0.25em;background-color: #f0f8ff;}#sk-container-id-1 input.sk-toggleable__control:checked~div.sk-toggleable__content {max-height: 200px;max-width: 100%;overflow: auto;}#sk-container-id-1 input.sk-toggleable__control:checked~label.sk-toggleable__label-arrow:before {content: \"▾\";}#sk-container-id-1 div.sk-estimator input.sk-toggleable__control:checked~label.sk-toggleable__label {background-color: #d4ebff;}#sk-container-id-1 div.sk-label input.sk-toggleable__control:checked~label.sk-toggleable__label {background-color: #d4ebff;}#sk-container-id-1 input.sk-hidden--visually {border: 0;clip: rect(1px 1px 1px 1px);clip: rect(1px, 1px, 1px, 1px);height: 1px;margin: -1px;overflow: hidden;padding: 0;position: absolute;width: 1px;}#sk-container-id-1 div.sk-estimator {font-family: monospace;background-color: #f0f8ff;border: 1px dotted black;border-radius: 0.25em;box-sizing: border-box;margin-bottom: 0.5em;}#sk-container-id-1 div.sk-estimator:hover {background-color: #d4ebff;}#sk-container-id-1 div.sk-parallel-item::after {content: \"\";width: 100%;border-bottom: 1px solid gray;flex-grow: 1;}#sk-container-id-1 div.sk-label:hover label.sk-toggleable__label {background-color: #d4ebff;}#sk-container-id-1 div.sk-serial::before {content: \"\";position: absolute;border-left: 1px solid gray;box-sizing: border-box;top: 0;bottom: 0;left: 50%;z-index: 0;}#sk-container-id-1 div.sk-serial {display: flex;flex-direction: column;align-items: center;background-color: white;padding-right: 0.2em;padding-left: 0.2em;position: relative;}#sk-container-id-1 div.sk-item {position: relative;z-index: 1;}#sk-container-id-1 div.sk-parallel {display: flex;align-items: stretch;justify-content: center;background-color: white;position: relative;}#sk-container-id-1 div.sk-item::before, #sk-container-id-1 div.sk-parallel-item::before {content: \"\";position: absolute;border-left: 1px solid gray;box-sizing: border-box;top: 0;bottom: 0;left: 50%;z-index: -1;}#sk-container-id-1 div.sk-parallel-item {display: flex;flex-direction: column;z-index: 1;position: relative;background-color: white;}#sk-container-id-1 div.sk-parallel-item:first-child::after {align-self: flex-end;width: 50%;}#sk-container-id-1 div.sk-parallel-item:last-child::after {align-self: flex-start;width: 50%;}#sk-container-id-1 div.sk-parallel-item:only-child::after {width: 0;}#sk-container-id-1 div.sk-dashed-wrapped {border: 1px dashed gray;margin: 0 0.4em 0.5em 0.4em;box-sizing: border-box;padding-bottom: 0.4em;background-color: white;}#sk-container-id-1 div.sk-label label {font-family: monospace;font-weight: bold;display: inline-block;line-height: 1.2em;}#sk-container-id-1 div.sk-label-container {text-align: center;}#sk-container-id-1 div.sk-container {/* jupyter's `normalize.less` sets `[hidden] { display: none; }` but bootstrap.min.css set `[hidden] { display: none !important; }` so we also need the `!important` here to be able to override the default hidden behavior on the sphinx rendered scikit-learn.org. See: https://github.com/scikit-learn/scikit-learn/issues/21755 */display: inline-block !important;position: relative;}#sk-container-id-1 div.sk-text-repr-fallback {display: none;}</style><div id=\"sk-container-id-1\" class=\"sk-top-container\"><div class=\"sk-text-repr-fallback\"><pre>RandomForestClassifier(max_depth=8, min_samples_split=10, random_state=5)</pre><b>In a Jupyter environment, please rerun this cell to show the HTML representation or trust the notebook. <br />On GitHub, the HTML representation is unable to render, please try loading this page with nbviewer.org.</b></div><div class=\"sk-container\" hidden><div class=\"sk-item\"><div class=\"sk-estimator sk-toggleable\"><input class=\"sk-toggleable__control sk-hidden--visually\" id=\"sk-estimator-id-1\" type=\"checkbox\" checked><label for=\"sk-estimator-id-1\" class=\"sk-toggleable__label sk-toggleable__label-arrow\">RandomForestClassifier</label><div class=\"sk-toggleable__content\"><pre>RandomForestClassifier(max_depth=8, min_samples_split=10, random_state=5)</pre></div></div></div></div></div>"
      ],
      "text/plain": [
       "RandomForestClassifier(max_depth=8, min_samples_split=10, random_state=5)"
      ]
     },
     "execution_count": 28,
     "metadata": {},
     "output_type": "execute_result"
    }
   ],
   "source": [
    "from sklearn.ensemble import RandomForestClassifier\n",
    "clf = RandomForestClassifier(criterion= \"gini\" , max_depth=8, min_samples_split= 10 , random_state=5, )\n",
    "clf.fit(X_train, Y_train)"
   ]
  },
  {
   "cell_type": "code",
   "execution_count": 29,
   "metadata": {},
   "outputs": [
    {
     "data": {
      "text/plain": [
       "array([3.22826220e-02, 2.24093037e-03, 1.55893998e-02, 2.46641303e-01,\n",
       "       1.42757049e-01, 9.20174176e-02, 6.92866727e-02, 5.33891309e-02,\n",
       "       5.13097183e-02, 2.54459517e-02, 2.49016852e-02, 1.99280536e-02,\n",
       "       1.78895939e-02, 1.78666115e-02, 1.81044261e-02, 4.26799639e-02,\n",
       "       3.01424788e-02, 2.52512033e-02, 2.51461272e-02, 1.92253788e-02,\n",
       "       1.68260075e-02, 0.00000000e+00, 1.95465037e-03, 1.63137610e-03,\n",
       "       1.78469487e-03, 1.21564368e-04, 8.01872213e-04, 2.77743074e-04,\n",
       "       2.99653047e-04, 1.94283375e-03, 1.67938487e-03, 5.84501944e-04])"
      ]
     },
     "execution_count": 29,
     "metadata": {},
     "output_type": "execute_result"
    }
   ],
   "source": [
    "clf.feature_importances_"
   ]
  },
  {
   "cell_type": "code",
   "execution_count": 30,
   "metadata": {},
   "outputs": [
    {
     "data": {
      "text/plain": [
       "Index(['ID', 'LIMIT_BAL', 'SEX', 'EDUCATION', 'MARRIAGE', 'AGE', 'PAY_0',\n",
       "       'PAY_2', 'PAY_3', 'PAY_4', 'PAY_5', 'PAY_6', 'BILL_AMT1', 'BILL_AMT2',\n",
       "       'BILL_AMT3', 'BILL_AMT4', 'BILL_AMT5', 'BILL_AMT6', 'PAY_AMT1',\n",
       "       'PAY_AMT2', 'PAY_AMT3', 'PAY_AMT4', 'PAY_AMT5', 'PAY_AMT6',\n",
       "       'default.payment.next.month'],\n",
       "      dtype='object')"
      ]
     },
     "execution_count": 30,
     "metadata": {},
     "output_type": "execute_result"
    }
   ],
   "source": [
    "df.columns"
   ]
  },
  {
   "cell_type": "code",
   "execution_count": 31,
   "metadata": {},
   "outputs": [],
   "source": [
    "Y_pred = clf.predict(X_test)"
   ]
  },
  {
   "cell_type": "code",
   "execution_count": 32,
   "metadata": {},
   "outputs": [
    {
     "data": {
      "text/plain": [
       "array([0, 0, 0, ..., 0, 0, 0], dtype=int64)"
      ]
     },
     "execution_count": 32,
     "metadata": {},
     "output_type": "execute_result"
    }
   ],
   "source": [
    "Y_pred"
   ]
  },
  {
   "cell_type": "code",
   "execution_count": 33,
   "metadata": {},
   "outputs": [
    {
     "data": {
      "text/plain": [
       "array([[5605,  255],\n",
       "       [1107,  533]], dtype=int64)"
      ]
     },
     "execution_count": 33,
     "metadata": {},
     "output_type": "execute_result"
    }
   ],
   "source": [
    "from sklearn.metrics import confusion_matrix \n",
    "confusion_matrix(Y_test, Y_pred)"
   ]
  },
  {
   "cell_type": "code",
   "execution_count": 34,
   "metadata": {},
   "outputs": [
    {
     "data": {
      "text/plain": [
       "0.8184"
      ]
     },
     "execution_count": 34,
     "metadata": {},
     "output_type": "execute_result"
    }
   ],
   "source": [
    "from sklearn.metrics import accuracy_score\n",
    "accuracy_score(Y_test, Y_pred)"
   ]
  },
  {
   "cell_type": "code",
   "execution_count": 35,
   "metadata": {},
   "outputs": [
    {
     "data": {
      "text/plain": [
       "array([0.82088889, 0.80888889, 0.81466667, 0.80977778, 0.81644444,\n",
       "       0.82666667, 0.82266667, 0.82755556, 0.80933333, 0.82303246])"
      ]
     },
     "execution_count": 35,
     "metadata": {},
     "output_type": "execute_result"
    }
   ],
   "source": [
    "cross_val_score(clf, X_train, Y_train, cv= 10)"
   ]
  },
  {
   "cell_type": "code",
   "execution_count": 36,
   "metadata": {},
   "outputs": [
    {
     "name": "stdout",
     "output_type": "stream",
     "text": [
      "              precision    recall  f1-score   support\n",
      "\n",
      "           0       0.96      0.84      0.89      6712\n",
      "           1       0.33      0.68      0.44       788\n",
      "\n",
      "    accuracy                           0.82      7500\n",
      "   macro avg       0.64      0.76      0.67      7500\n",
      "weighted avg       0.89      0.82      0.84      7500\n",
      "\n"
     ]
    }
   ],
   "source": [
    "from sklearn.metrics import classification_report\n",
    "print(classification_report(Y_pred, Y_test))"
   ]
  },
  {
   "cell_type": "code",
   "execution_count": 48,
   "metadata": {},
   "outputs": [
    {
     "data": {
      "image/png": "[encoded data removed]",
      "text/plain": [
       "<Figure size 1000x800 with 1 Axes>"
      ]
     },
     "metadata": {},
     "output_type": "display_data"
    }
   ],
   "source": [
    "features = X.columns\n",
    "importance = clf.feature_importances_\n",
    "indices = np.argsort(importance)\n",
    "plt.figure(figsize=(10, 8))\n",
    "plt.title('Feature Importances')\n",
    "plt.barh(range(len(indices)), importance[indices], color = 'b')\n",
    "plt.yticks(range(len(indices)), [features[i] for i in indices])\n",
    "plt.xlabel('Relative Importance')\n",
    "plt.show()\n"
   ]
  }
 ],
 "metadata": {
  "kernelspec": {
   "display_name": "Python 3",
   "language": "python",
   "name": "python3"
  },
  "language_info": {
   "codemirror_mode": {
    "name": "ipython",
    "version": 3
   },
   "file_extension": ".py",
   "mimetype": "text/x-python",
   "name": "python",
   "nbconvert_exporter": "python",
   "pygments_lexer": "ipython3",
   "version": "3.11.9"
  }
 },
 "nbformat": 4,
 "nbformat_minor": 2
}
