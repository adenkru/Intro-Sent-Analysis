{
 "cells": [
  {
   "cell_type": "code",
   "execution_count": 49,
   "metadata": {},
   "outputs": [
    {
     "name": "stdout",
     "output_type": "stream",
     "text": [
      "Requirement already satisfied: transformers in c:\\users\\adenm\\appdata\\local\\packages\\pythonsoftwarefoundation.python.3.11_qbz5n2kfra8p0\\localcache\\local-packages\\python311\\site-packages (4.41.2)\n",
      "Requirement already satisfied: filelock in c:\\users\\adenm\\appdata\\local\\packages\\pythonsoftwarefoundation.python.3.11_qbz5n2kfra8p0\\localcache\\local-packages\\python311\\site-packages (from transformers) (3.13.1)\n",
      "Requirement already satisfied: huggingface-hub<1.0,>=0.23.0 in c:\\users\\adenm\\appdata\\local\\packages\\pythonsoftwarefoundation.python.3.11_qbz5n2kfra8p0\\localcache\\local-packages\\python311\\site-packages (from transformers) (0.23.3)\n",
      "Requirement already satisfied: numpy>=1.17 in c:\\users\\adenm\\appdata\\local\\packages\\pythonsoftwarefoundation.python.3.11_qbz5n2kfra8p0\\localcache\\local-packages\\python311\\site-packages (from transformers) (1.25.2)\n",
      "Requirement already satisfied: packaging>=20.0 in c:\\users\\adenm\\appdata\\local\\packages\\pythonsoftwarefoundation.python.3.11_qbz5n2kfra8p0\\localcache\\local-packages\\python311\\site-packages (from transformers) (23.1)\n",
      "Requirement already satisfied: pyyaml>=5.1 in c:\\users\\adenm\\appdata\\local\\packages\\pythonsoftwarefoundation.python.3.11_qbz5n2kfra8p0\\localcache\\local-packages\\python311\\site-packages (from transformers) (6.0.1)\n",
      "Requirement already satisfied: regex!=2019.12.17 in c:\\users\\adenm\\appdata\\local\\packages\\pythonsoftwarefoundation.python.3.11_qbz5n2kfra8p0\\localcache\\local-packages\\python311\\site-packages (from transformers) (2024.5.15)\n",
      "Requirement already satisfied: requests in c:\\users\\adenm\\appdata\\local\\packages\\pythonsoftwarefoundation.python.3.11_qbz5n2kfra8p0\\localcache\\local-packages\\python311\\site-packages (from transformers) (2.32.3)\n",
      "Requirement already satisfied: tokenizers<0.20,>=0.19 in c:\\users\\adenm\\appdata\\local\\packages\\pythonsoftwarefoundation.python.3.11_qbz5n2kfra8p0\\localcache\\local-packages\\python311\\site-packages (from transformers) (0.19.1)\n",
      "Requirement already satisfied: safetensors>=0.4.1 in c:\\users\\adenm\\appdata\\local\\packages\\pythonsoftwarefoundation.python.3.11_qbz5n2kfra8p0\\localcache\\local-packages\\python311\\site-packages (from transformers) (0.4.3)\n",
      "Requirement already satisfied: tqdm>=4.27 in c:\\users\\adenm\\appdata\\local\\packages\\pythonsoftwarefoundation.python.3.11_qbz5n2kfra8p0\\localcache\\local-packages\\python311\\site-packages (from transformers) (4.66.4)\n",
      "Requirement already satisfied: fsspec>=2023.5.0 in c:\\users\\adenm\\appdata\\local\\packages\\pythonsoftwarefoundation.python.3.11_qbz5n2kfra8p0\\localcache\\local-packages\\python311\\site-packages (from huggingface-hub<1.0,>=0.23.0->transformers) (2024.2.0)\n",
      "Requirement already satisfied: typing-extensions>=3.7.4.3 in c:\\users\\adenm\\appdata\\local\\packages\\pythonsoftwarefoundation.python.3.11_qbz5n2kfra8p0\\localcache\\local-packages\\python311\\site-packages (from huggingface-hub<1.0,>=0.23.0->transformers) (4.9.0)\n",
      "Requirement already satisfied: colorama in c:\\users\\adenm\\appdata\\local\\packages\\pythonsoftwarefoundation.python.3.11_qbz5n2kfra8p0\\localcache\\local-packages\\python311\\site-packages (from tqdm>=4.27->transformers) (0.4.6)\n",
      "Requirement already satisfied: charset-normalizer<4,>=2 in c:\\users\\adenm\\appdata\\local\\packages\\pythonsoftwarefoundation.python.3.11_qbz5n2kfra8p0\\localcache\\local-packages\\python311\\site-packages (from requests->transformers) (3.3.2)\n",
      "Requirement already satisfied: idna<4,>=2.5 in c:\\users\\adenm\\appdata\\local\\packages\\pythonsoftwarefoundation.python.3.11_qbz5n2kfra8p0\\localcache\\local-packages\\python311\\site-packages (from requests->transformers) (3.7)\n",
      "Requirement already satisfied: urllib3<3,>=1.21.1 in c:\\users\\adenm\\appdata\\local\\packages\\pythonsoftwarefoundation.python.3.11_qbz5n2kfra8p0\\localcache\\local-packages\\python311\\site-packages (from requests->transformers) (2.2.1)\n",
      "Requirement already satisfied: certifi>=2017.4.17 in c:\\users\\adenm\\appdata\\local\\packages\\pythonsoftwarefoundation.python.3.11_qbz5n2kfra8p0\\localcache\\local-packages\\python311\\site-packages (from requests->transformers) (2024.6.2)\n",
      "Note: you may need to restart the kernel to use updated packages.\n"
     ]
    }
   ],
   "source": [
    "#Install and import dependencies\n",
    "import pandas as pd \n",
    "import numpy as np\n",
    "%pip install transformers "
   ]
  },
  {
   "cell_type": "code",
   "execution_count": 31,
   "metadata": {},
   "outputs": [],
   "source": [
    "#BERT is the sentiment model (1-5 sentiment score)\n",
    "from transformers import AutoTokenizer, AutoModelForSequenceClassification\n",
    "import torch\n",
    "import requests \n",
    "from bs4 import BeautifulSoup\n",
    "import re \n",
    "#ArgMax for torch, takes the highest sequence request\n",
    "#'re' is the regex function to extract specific function"
   ]
  },
  {
   "cell_type": "code",
   "execution_count": 32,
   "metadata": {},
   "outputs": [],
   "source": [
    "tokenizer = AutoTokenizer.from_pretrained('nlptown/bert-base-multilingual-uncased-sentiment')\n",
    "#Creating our tokenizer, using the pretrained model\n",
    "model = AutoModelForSequenceClassification.from_pretrained('nlptown/bert-base-multilingual-uncased-sentiment')"
   ]
  },
  {
   "cell_type": "code",
   "execution_count": 33,
   "metadata": {},
   "outputs": [
    {
     "name": "stdout",
     "output_type": "stream",
     "text": [
      "tensor([[  101,   151, 39487, 10163, 10372,   117, 35925, 10563, 10103, 43060,\n",
      "           102]])\n"
     ]
    },
    {
     "data": {
      "text/plain": [
       "'[CLS] i hated this, absolutely the worst [SEP]'"
      ]
     },
     "execution_count": 33,
     "metadata": {},
     "output_type": "execute_result"
    }
   ],
   "source": [
    "tokens = tokenizer.encode('I hated this, absolutely the worst' , return_tensors='pt')\n",
    "print(tokens)\n",
    "#Encoding our string turning it into a list of integers\n",
    "#We can also decode, making sure to use it as a list\n",
    "tokenizer.decode(tokens[0])\n",
    "#Grabs internal string by using [0]"
   ]
  },
  {
   "cell_type": "code",
   "execution_count": 34,
   "metadata": {},
   "outputs": [
    {
     "name": "stdout",
     "output_type": "stream",
     "text": [
      "SequenceClassifierOutput(loss=None, logits=tensor([[ 4.8750,  1.7880, -0.8356, -3.0027, -2.0727]],\n",
      "       grad_fn=<AddmmBackward0>), hidden_states=None, attentions=None)\n"
     ]
    },
    {
     "data": {
      "text/plain": [
       "tensor(0)"
      ]
     },
     "execution_count": 34,
     "metadata": {},
     "output_type": "execute_result"
    }
   ],
   "source": [
    "#Find the result using our model\n",
    "result = model(tokens)\n",
    "print(result)\n",
    "torch.argmax(result.logits)\n",
    "#Finding the highest value, what position represents the actual sentiment"
   ]
  },
  {
   "cell_type": "code",
   "execution_count": 35,
   "metadata": {},
   "outputs": [
    {
     "data": {
      "text/plain": [
       "1"
      ]
     },
     "execution_count": 35,
     "metadata": {},
     "output_type": "execute_result"
    }
   ],
   "source": [
    "int(torch.argmax(result.logits))+1\n",
    "#Returning a sentiment rating of 1, the lowest"
   ]
  },
  {
   "cell_type": "markdown",
   "metadata": {},
   "source": [
    "***Let's try to collect some reviews now***"
   ]
  },
  {
   "cell_type": "code",
   "execution_count": 47,
   "metadata": {},
   "outputs": [
    {
     "data": {
      "text/plain": [
       "[\"Crisp & Green is located in Mellody Farms. We came by for dinner one evening after shopping in the area and we were looking for something light but filling, and naturally Crisp & Green was the perfect option. We came in just before dinner time and there were some folks there but as we looked through the menu, a bunch of folks came in for both carry out and to dine in. So great to know that if I'm in a rush, I can order ahead and just come in and pick it up. I opted to build my own bowl, it was my first time ordered a non-curated bowl so the process was a bit different as the order of what I could pick from wasn't really in front of me but I ended up with a salad that I really enjoyed. From the bowl itself it didn't look like much but once you got into it, boy does it fill you up. Overall, we had a great time, the staff was super helpful and patient and I had an amazing time enjoying dinner with my bjs and in a bright area with great windows to look outside. Also their drink options were great too!\",\n",
       " \"Hello Kesha! We are so happy you had an amazing experience with us. Thank you for the 5 stars! Bringing quality chef-crafted salads (and more) with a side of great hospitality to our guests is always our goal and we're glad we delivered on that. Be sure to download our APP so that you can earn credit for your in-restaurant AND APP purchases. See you on your next salad run! -Team C&G \",\n",
       " 'DO NOT USE THE APP!!!! Literally waited over an hour and then found out they never even went to the printer in the back to get the orders placed online. Food is mediocre for the price.',\n",
       " 'Hey Laura! We truly apologize for the technical issues and miscommunication you experienced on your visit with us! We have high standards as a team to give our guests their orders on time & always hope to fix any issues right over at hello@crispandgreen.com! Would you mind sending us an email when you get a second? Thank you in advance! -Team C&G ',\n",
       " '5 stars for Crisp & Green.Crisp & Green is a quick service restaurant that serves healthier meal options like bowls, salads & smoothies.I tried them for the first time for dinner tonight - I had the \"Thai and Stop Me\" salad and substituted the peanut dressing for green goddess jalapeno dressing - that was absolutely amazing. The shrimp and dressing mixed with all the other veggies combined is just delicious, and the salad will for sure fill you up it\\'s a pretty big portion sized salad. I definitely recommend this place if you\\'re looking for a healthier option for lunch or dinner.',\n",
       " \"Hi there Frank! Thank you very much for coming in and also leaving us some 5 star love and support here. It's so fun every day to be able to serve you and all of our other guests food they deserve! The Thai & Stop Me really takes the crown being extra flavorful and the perfect amount of crunch. Great pick!Make sure to download our APP to earn rewards toward a free salad/grain bowl. Hope to see you again soon! -Team C&G \",\n",
       " \"My first time at Crisp & Green and I have to say I was highly surprised. I been trying to find a healthier option in the area as one of my coworkers and I try to eat more clean. The different dishes really make it easier for someone to find something they like. I tried the Seoul Bowl and will say it was pretty good. I can't say the sauce was identically to Korean sauces but, it was pretty tasty. The service here was really nice since it was very quick and easy. The atmosphere or ambiance like I like to call it. Was very pleasant. The seating was great as it could seat many people. And you didn't have to worry about the noise level! I say give C&G a shot as it will please what ever you are in the mood for!\",\n",
       " \"Hey there Steve! Thank you so much for the compliments and 5 stars. Be sure to grab your winter favorites while you still can because we have our Spring menu launching on March 5th! You will LOVE what we're bringing to the table. Hope to see you again soon! -Team C&G \",\n",
       " \"Very upset  we ordered here before and love it but this time we got half of the dressing we got last time so not enough to cover the entire salad.  For an $18 salad  there should be two dressing if you're going to change to a smaller dressing container.  The most recent photo is the smaller dressing container which is not enough for your salad.  I got this to eat before a conference call - looks like I'll have to wait until 3 when I get a break to eat something else.  Tried to call but no answer and no voicemail either.  We've really enjoyed our meals from this place!  We order here during the week when we're back to back on conference call without time to make lunch. It's refreshing, healthy and super filling.  The salads are huge and have to potential to be a meal in a half!  A few toppings that would be nice to add - peas, beats, more beans (chickpeas) and vegan cheese!  I look forward to trying this place in person!\",\n",
       " \"You are too good to us, Ashley! What an honor for the 5-stars and support! We will pass your ingredient feedback over to our Culinary Team. Once upon a time we had those ingredients so you never know if they'll make a guest appearance in the future!We are so grateful to be able to serve amazing guests like yourself daily. Can't wait to welcome you back in! -Team C&G \",\n",
       " \"My husband and I had a wonderful first experience there!  It was super clean and staff inviting.  They didn't rush us to order and swapped chicken with tofu. No problem.We split the bowls and got the hot sauce on the side since I don't like hot stuff.  We are vegetarian so ordered two bowls.  Crispy teriyaki and Seoul Bowl.   The tofu was fab.  The teriyaki sauce Devine.The photos show the bowls already split by us:). The food was delicious!  So fresh and healthy!  The atmosphere casual but classy and super clean, airy and bright.  We highly recommend this restaurant.\",\n",
       " \"Thank you for the 5 stars, Sandy! We're beyond honored to be in your community serving you fresh food that you deserve with a side of wonderful hospitality. LOVE the Crispy Teriyaki and Seoul Bowl, by the way. Fantastic picks! Be sure to download our APP so you can start earning rewards with us. 10 tracked visits = 1 free salad/grain bowl of your choice. Can't wait to see you back again! -Team C&G \",\n",
       " \"I crave their grain/salad bowls like once a week, surprised they don't seem more busy. A little overall smaller servings than sweetgreen and slightly more conservative with the amoint of toppings, but definitely enough food.  Good dressings and flavor combinations.\",\n",
       " \"Hey Anne! We're thrilled to hear you checked us out & enjoyed your greens! We love providing delicious, wholesome & unique bowls, smoothies and açaí bowls to nourish you from the inside out. Can't wait to see you again! -Team C&G \",\n",
       " \"This is the kind of place I'm looking for. Warm bowls, salads, smoothies, açaí bowls and Agua  frescas. I tried a Big Island smoothie with banana, coconut milk, pineapple and vanilla pea protein. It tasted delish! I'll have to come back and try some of the bowls, maybe the Seoul bowl? If you download the app, there is a rewards program.\",\n",
       " \"We're so happy you had a 5-star time with us, Karyn! Our new seasonal menu is releasing October 3rd so we hope to see you soon! -Team C&G \",\n",
       " \"I don't usually eat salads but in an attempt to start the new year right, I tried the Thai and Stop Me. Very fresh, generous portion of shrimp. I also liked that they had frescas - the pineapple ginger was almost unsweetened which I preferred. Will have to finally try the açaí bowls next time and see what all the fuss is about. Friendly staff, welcoming.\",\n",
       " \"JR, thank you for the kind words and 5 stars! We hope you were ready to tackle your day after getting your greens in! The Thai & Stop Me is the definition of flavor packed -- great choice! Heads up: We have some fun promotions you should take advantage of this month (including Free Delivery Friday's on our APP with coupon code FREEDELIVERY) so keep an eye out for that this Friday. Another one will be taking off real soon. Can't wait to see you back in! -Team C&G \",\n",
       " \"I love this place. Very fresh, the menu is great for salads, warm bowls that are salads with cooked veg, smoothies, and interesting agua frescas--strawberry jalapeño is very refreshing. They are always replenishing ingredients, and the app works well to order ahead, grab and go. Nice space for lunch or quick supper. It's an open kitchen, where you follow the staff down the line as they prep your dish.\",\n",
       " \"Hello there! Thank you so much for all the kind words and the review. It's so fun to serve you & all of our guests food they deserve and can crave. We can't wait to welcome you back in again soon. - Team C&G \"]"
      ]
     },
     "execution_count": 47,
     "metadata": {},
     "output_type": "execute_result"
    }
   ],
   "source": [
    "r = requests.get('https://www.yelp.com/biz/crisp-and-green-vernon-hills')\n",
    "#Requests and grabs the webpage | r.text gets the entire webpage\n",
    "soup = BeautifulSoup(r.text, 'html.parser')\n",
    "#BS strains the text, setting an html parser\n",
    "regex = re.compile('.*comment.*')\n",
    "#Regex extracts and compiles the specific comment within the class \n",
    "results = soup.find_all('p' , {'class' : regex})\n",
    "#We're going through our soup to find all tags which match the specific formatting \n",
    "reviews = [result.text for result in results]\n",
    "reviews"
   ]
  },
  {
   "cell_type": "code",
   "execution_count": 53,
   "metadata": {},
   "outputs": [
    {
     "name": "stdout",
     "output_type": "stream",
     "text": [
      "This is our dataframe                                                review\n",
      "0   Crisp & Green is located in Mellody Farms. We ...\n",
      "1   Hello Kesha! We are so happy you had an amazin...\n",
      "2   DO NOT USE THE APP!!!! Literally waited over a...\n",
      "3   Hey Laura! We truly apologize for the technica...\n",
      "4   5 stars for Crisp & Green.Crisp & Green is a q...\n",
      "5   Hi there Frank! Thank you very much for coming...\n",
      "6   My first time at Crisp & Green and I have to s...\n",
      "7   Hey there Steve! Thank you so much for the com...\n",
      "8   Very upset  we ordered here before and love it...\n",
      "9   You are too good to us, Ashley! What an honor ...\n",
      "10  My husband and I had a wonderful first experie...\n",
      "11  Thank you for the 5 stars, Sandy! We're beyond...\n",
      "12  I crave their grain/salad bowls like once a we...\n",
      "13  Hey Anne! We're thrilled to hear you checked u...\n",
      "14  This is the kind of place I'm looking for. War...\n",
      "15  We're so happy you had a 5-star time with us, ...\n",
      "16  I don't usually eat salads but in an attempt t...\n",
      "17  JR, thank you for the kind words and 5 stars! ...\n",
      "18  I love this place. Very fresh, the menu is gre...\n",
      "19  Hello there! Thank you so much for all the kin...\n"
     ]
    }
   ],
   "source": [
    "df = pd.DataFrame(np.array(reviews), columns = ['review'] )\n",
    "#Converting reviews to numPY arrary \n",
    "print(f\"This is our dataframe {df}\")"
   ]
  },
  {
   "cell_type": "code",
   "execution_count": 55,
   "metadata": {},
   "outputs": [],
   "source": [
    "def sentiment_score(review):\n",
    "    tokens = tokenizer.encode(review, return_tensors = 'pt')\n",
    "    result = model(tokens)\n",
    "    return int(torch.argmax(result.logits))+1\n"
   ]
  },
  {
   "cell_type": "code",
   "execution_count": 58,
   "metadata": {},
   "outputs": [
    {
     "data": {
      "text/html": [
       "<div>\n",
       "<style scoped>\n",
       "    .dataframe tbody tr th:only-of-type {\n",
       "        vertical-align: middle;\n",
       "    }\n",
       "\n",
       "    .dataframe tbody tr th {\n",
       "        vertical-align: top;\n",
       "    }\n",
       "\n",
       "    .dataframe thead th {\n",
       "        text-align: right;\n",
       "    }\n",
       "</style>\n",
       "<table border=\"1\" class=\"dataframe\">\n",
       "  <thead>\n",
       "    <tr style=\"text-align: right;\">\n",
       "      <th></th>\n",
       "      <th>review</th>\n",
       "      <th>sentiment</th>\n",
       "    </tr>\n",
       "  </thead>\n",
       "  <tbody>\n",
       "    <tr>\n",
       "      <th>0</th>\n",
       "      <td>Crisp &amp; Green is located in Mellody Farms. We ...</td>\n",
       "      <td>4</td>\n",
       "    </tr>\n",
       "    <tr>\n",
       "      <th>1</th>\n",
       "      <td>Hello Kesha! We are so happy you had an amazin...</td>\n",
       "      <td>5</td>\n",
       "    </tr>\n",
       "    <tr>\n",
       "      <th>2</th>\n",
       "      <td>DO NOT USE THE APP!!!! Literally waited over a...</td>\n",
       "      <td>1</td>\n",
       "    </tr>\n",
       "    <tr>\n",
       "      <th>3</th>\n",
       "      <td>Hey Laura! We truly apologize for the technica...</td>\n",
       "      <td>5</td>\n",
       "    </tr>\n",
       "    <tr>\n",
       "      <th>4</th>\n",
       "      <td>5 stars for Crisp &amp; Green.Crisp &amp; Green is a q...</td>\n",
       "      <td>5</td>\n",
       "    </tr>\n",
       "    <tr>\n",
       "      <th>5</th>\n",
       "      <td>Hi there Frank! Thank you very much for coming...</td>\n",
       "      <td>5</td>\n",
       "    </tr>\n",
       "    <tr>\n",
       "      <th>6</th>\n",
       "      <td>My first time at Crisp &amp; Green and I have to s...</td>\n",
       "      <td>4</td>\n",
       "    </tr>\n",
       "    <tr>\n",
       "      <th>7</th>\n",
       "      <td>Hey there Steve! Thank you so much for the com...</td>\n",
       "      <td>5</td>\n",
       "    </tr>\n",
       "    <tr>\n",
       "      <th>8</th>\n",
       "      <td>Very upset  we ordered here before and love it...</td>\n",
       "      <td>1</td>\n",
       "    </tr>\n",
       "    <tr>\n",
       "      <th>9</th>\n",
       "      <td>You are too good to us, Ashley! What an honor ...</td>\n",
       "      <td>5</td>\n",
       "    </tr>\n",
       "    <tr>\n",
       "      <th>10</th>\n",
       "      <td>My husband and I had a wonderful first experie...</td>\n",
       "      <td>5</td>\n",
       "    </tr>\n",
       "    <tr>\n",
       "      <th>11</th>\n",
       "      <td>Thank you for the 5 stars, Sandy! We're beyond...</td>\n",
       "      <td>5</td>\n",
       "    </tr>\n",
       "    <tr>\n",
       "      <th>12</th>\n",
       "      <td>I crave their grain/salad bowls like once a we...</td>\n",
       "      <td>4</td>\n",
       "    </tr>\n",
       "    <tr>\n",
       "      <th>13</th>\n",
       "      <td>Hey Anne! We're thrilled to hear you checked u...</td>\n",
       "      <td>5</td>\n",
       "    </tr>\n",
       "    <tr>\n",
       "      <th>14</th>\n",
       "      <td>This is the kind of place I'm looking for. War...</td>\n",
       "      <td>5</td>\n",
       "    </tr>\n",
       "    <tr>\n",
       "      <th>15</th>\n",
       "      <td>We're so happy you had a 5-star time with us, ...</td>\n",
       "      <td>5</td>\n",
       "    </tr>\n",
       "    <tr>\n",
       "      <th>16</th>\n",
       "      <td>I don't usually eat salads but in an attempt t...</td>\n",
       "      <td>4</td>\n",
       "    </tr>\n",
       "    <tr>\n",
       "      <th>17</th>\n",
       "      <td>JR, thank you for the kind words and 5 stars! ...</td>\n",
       "      <td>5</td>\n",
       "    </tr>\n",
       "    <tr>\n",
       "      <th>18</th>\n",
       "      <td>I love this place. Very fresh, the menu is gre...</td>\n",
       "      <td>5</td>\n",
       "    </tr>\n",
       "    <tr>\n",
       "      <th>19</th>\n",
       "      <td>Hello there! Thank you so much for all the kin...</td>\n",
       "      <td>5</td>\n",
       "    </tr>\n",
       "  </tbody>\n",
       "</table>\n",
       "</div>"
      ],
      "text/plain": [
       "                                               review  sentiment\n",
       "0   Crisp & Green is located in Mellody Farms. We ...          4\n",
       "1   Hello Kesha! We are so happy you had an amazin...          5\n",
       "2   DO NOT USE THE APP!!!! Literally waited over a...          1\n",
       "3   Hey Laura! We truly apologize for the technica...          5\n",
       "4   5 stars for Crisp & Green.Crisp & Green is a q...          5\n",
       "5   Hi there Frank! Thank you very much for coming...          5\n",
       "6   My first time at Crisp & Green and I have to s...          4\n",
       "7   Hey there Steve! Thank you so much for the com...          5\n",
       "8   Very upset  we ordered here before and love it...          1\n",
       "9   You are too good to us, Ashley! What an honor ...          5\n",
       "10  My husband and I had a wonderful first experie...          5\n",
       "11  Thank you for the 5 stars, Sandy! We're beyond...          5\n",
       "12  I crave their grain/salad bowls like once a we...          4\n",
       "13  Hey Anne! We're thrilled to hear you checked u...          5\n",
       "14  This is the kind of place I'm looking for. War...          5\n",
       "15  We're so happy you had a 5-star time with us, ...          5\n",
       "16  I don't usually eat salads but in an attempt t...          4\n",
       "17  JR, thank you for the kind words and 5 stars! ...          5\n",
       "18  I love this place. Very fresh, the menu is gre...          5\n",
       "19  Hello there! Thank you so much for all the kin...          5"
      ]
     },
     "execution_count": 58,
     "metadata": {},
     "output_type": "execute_result"
    }
   ],
   "source": [
    "df['sentiment'] = df['review'].apply(lambda x: sentiment_score(x[:512]))\n",
    "#Can only handle 512 tokens at once, so we only grab the first 512 tokens\n",
    "df"
   ]
  },
  {
   "cell_type": "code",
   "execution_count": 61,
   "metadata": {},
   "outputs": [
    {
     "ename": "NameError",
     "evalue": "name 'review' is not defined",
     "output_type": "error",
     "traceback": [
      "\u001b[1;31m---------------------------------------------------------------------------\u001b[0m",
      "\u001b[1;31mNameError\u001b[0m                                 Traceback (most recent call last)",
      "Cell \u001b[1;32mIn[61], line 21\u001b[0m\n\u001b[0;32m     19\u001b[0m \u001b[38;5;28;01mfor\u001b[39;00m review \u001b[38;5;129;01min\u001b[39;00m reviews:\n\u001b[0;32m     20\u001b[0m     \u001b[38;5;28mprint\u001b[39m(review)\n\u001b[1;32m---> 21\u001b[0m \u001b[43mreview\u001b[49m\n",
      "\u001b[1;31mNameError\u001b[0m: name 'review' is not defined"
     ]
    }
   ],
   "source": [
    "def is_not_owner_response(tag):\n",
    "    if tag.has_attr('class'):\n",
    "        class_list = tag['class']\n",
    "        for class_name in class_list:\n",
    "            if 'truncated__09f24__lSBbT' in class_name:\n",
    "                return False\n",
    "    return True\n",
    "\n",
    "\n",
    "# Find all review containers (inspect the HTML to find the correct class)\n",
    "review_containers = soup.find_all('div', {'class': re.compile(r'review__\\d+')})  # Adjust the regex to match review containers\n",
    "\n",
    "# Extract review text from each container while filtering out owner responsesreviews = []\n",
    "for container in review_containers:\n",
    "    review_text = container.find('p')\n",
    "    if review_text and is_not_owner_response(container):\n",
    "        reviews.append(review_text.text)\n",
    "\n"
   ]
  },
  {
   "cell_type": "code",
   "execution_count": null,
   "metadata": {},
   "outputs": [],
   "source": []
  }
 ],
 "metadata": {
  "kernelspec": {
   "display_name": "Python 3",
   "language": "python",
   "name": "python3"
  },
  "language_info": {
   "codemirror_mode": {
    "name": "ipython",
    "version": 3
   },
   "file_extension": ".py",
   "mimetype": "text/x-python",
   "name": "python",
   "nbconvert_exporter": "python",
   "pygments_lexer": "ipython3",
   "version": "3.11.9"
  }
 },
 "nbformat": 4,
 "nbformat_minor": 2
}
